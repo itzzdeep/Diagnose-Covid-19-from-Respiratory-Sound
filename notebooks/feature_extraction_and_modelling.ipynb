{
 "cells": [
  {
   "cell_type": "code",
   "execution_count": 1,
   "metadata": {},
   "outputs": [],
   "source": [
    "import os\n",
    "import preprocessing\n",
    "import vggish_processing\n",
    "import mfcc_stat\n",
    "from tqdm import tqdm\n",
    "import pandas as pd\n",
    "import numpy as np\n",
    "import librosa\n",
    "import librosa.display"
   ]
  },
  {
   "cell_type": "code",
   "execution_count": 2,
   "metadata": {},
   "outputs": [
    {
     "name": "stderr",
     "output_type": "stream",
     "text": [
      "100%|████████████████████████████████████████████████████████████████████████████████| 225/225 [01:06<00:00,  3.36it/s]\n"
     ]
    }
   ],
   "source": [
    "root = \"/Extracted_data/\"\n",
    "dirs = os.listdir(root)\n",
    "data = preprocessing.Get_Data(dirs,root)\n",
    "cough_heavy = data.get_cough_heavy()"
   ]
  },
  {
   "cell_type": "code",
   "execution_count": 3,
   "metadata": {},
   "outputs": [
    {
     "data": {
      "text/html": [
       "<div>\n",
       "<style scoped>\n",
       "    .dataframe tbody tr th:only-of-type {\n",
       "        vertical-align: middle;\n",
       "    }\n",
       "\n",
       "    .dataframe tbody tr th {\n",
       "        vertical-align: top;\n",
       "    }\n",
       "\n",
       "    .dataframe thead th {\n",
       "        text-align: right;\n",
       "    }\n",
       "</style>\n",
       "<table border=\"1\" class=\"dataframe\">\n",
       "  <thead>\n",
       "    <tr style=\"text-align: right;\">\n",
       "      <th></th>\n",
       "      <th>label</th>\n",
       "      <th>data</th>\n",
       "      <th>filename</th>\n",
       "    </tr>\n",
       "  </thead>\n",
       "  <tbody>\n",
       "    <tr>\n",
       "      <th>0</th>\n",
       "      <td>0.0</td>\n",
       "      <td>[1.141661e-05, 3.862317e-06, -3.9919647e-05, -...</td>\n",
       "      <td>C:/Users/deepd/Documents/Covid/Extracted_trial...</td>\n",
       "    </tr>\n",
       "    <tr>\n",
       "      <th>1</th>\n",
       "      <td>1.0</td>\n",
       "      <td>[0.0, 0.0, 0.0, 0.0, 0.0, 0.0, 0.0, 0.0, 0.0, ...</td>\n",
       "      <td>C:/Users/deepd/Documents/Covid/Extracted_trial...</td>\n",
       "    </tr>\n",
       "    <tr>\n",
       "      <th>2</th>\n",
       "      <td>1.0</td>\n",
       "      <td>[0.0, 0.0, 0.0, 0.0, 0.0, 0.0, 0.0, 0.0, 0.0, ...</td>\n",
       "      <td>C:/Users/deepd/Documents/Covid/Extracted_trial...</td>\n",
       "    </tr>\n",
       "    <tr>\n",
       "      <th>3</th>\n",
       "      <td>0.0</td>\n",
       "      <td>[0.0, 0.0, 0.0, 0.0, 0.0, 0.0, 0.0, 0.0, 0.0, ...</td>\n",
       "      <td>C:/Users/deepd/Documents/Covid/Extracted_trial...</td>\n",
       "    </tr>\n",
       "    <tr>\n",
       "      <th>4</th>\n",
       "      <td>0.0</td>\n",
       "      <td>[0.0, 0.0, 0.0, 0.0, 0.0, 0.0, 0.0, 0.0, 0.0, ...</td>\n",
       "      <td>C:/Users/deepd/Documents/Covid/Extracted_trial...</td>\n",
       "    </tr>\n",
       "  </tbody>\n",
       "</table>\n",
       "</div>"
      ],
      "text/plain": [
       "   label                                               data  \\\n",
       "0    0.0  [1.141661e-05, 3.862317e-06, -3.9919647e-05, -...   \n",
       "1    1.0  [0.0, 0.0, 0.0, 0.0, 0.0, 0.0, 0.0, 0.0, 0.0, ...   \n",
       "2    1.0  [0.0, 0.0, 0.0, 0.0, 0.0, 0.0, 0.0, 0.0, 0.0, ...   \n",
       "3    0.0  [0.0, 0.0, 0.0, 0.0, 0.0, 0.0, 0.0, 0.0, 0.0, ...   \n",
       "4    0.0  [0.0, 0.0, 0.0, 0.0, 0.0, 0.0, 0.0, 0.0, 0.0, ...   \n",
       "\n",
       "                                            filename  \n",
       "0  C:/Users/deepd/Documents/Covid/Extracted_trial...  \n",
       "1  C:/Users/deepd/Documents/Covid/Extracted_trial...  \n",
       "2  C:/Users/deepd/Documents/Covid/Extracted_trial...  \n",
       "3  C:/Users/deepd/Documents/Covid/Extracted_trial...  \n",
       "4  C:/Users/deepd/Documents/Covid/Extracted_trial...  "
      ]
     },
     "execution_count": 3,
     "metadata": {},
     "output_type": "execute_result"
    }
   ],
   "source": [
    "cough_heavy.head()"
   ]
  },
  {
   "cell_type": "markdown",
   "metadata": {},
   "source": [
    "## Extracting MFCC feature"
   ]
  },
  {
   "cell_type": "code",
   "execution_count": 4,
   "metadata": {},
   "outputs": [],
   "source": [
    "Extracted_feature = preprocessing.Extract_Data(cough_heavy)"
   ]
  },
  {
   "cell_type": "code",
   "execution_count": 5,
   "metadata": {},
   "outputs": [],
   "source": [
    "# extracting three variants of MFFCs\n",
    "mfcc = Extracted_feature.get_mfcc()\n",
    "mfccdelta = Extracted_feature.get_deltamfcc()\n",
    "mfcc2delta = Extracted_feature.get_delta2mfcc()"
   ]
  },
  {
   "cell_type": "markdown",
   "metadata": {},
   "source": [
    "## Computing different statistics from MFCC"
   ]
  },
  {
   "cell_type": "code",
   "execution_count": 6,
   "metadata": {},
   "outputs": [],
   "source": [
    "# computing a total of 11 statistics from the first 13 components of MFCC\n",
    "mfcc_feature = mfcc_stat.mfcc_stat(mfcc)\n",
    "mfcc_mean = mfcc_feature.mean()\n",
    "df_mfcc_mean = pd.DataFrame(mfcc_mean,columns=['mfcc_mean_feature']*13)\n",
    "df_mfcc_feature = df_mfcc_mean\n",
    "\n",
    "mfcc_std = mfcc_feature.std()\n",
    "df_mfcc_std = pd.DataFrame(mfcc_std,columns=['mfcc_std_feature']*13)\n",
    "df_mfcc_feature = df_mfcc_feature.join(df_mfcc_std)\n",
    "\n",
    "mfcc_iqr = mfcc_feature.interquartilerange()\n",
    "df_mfcc_iqr = pd.DataFrame(mfcc_iqr,columns=['mfcc_iqr_feature']*13)\n",
    "df_mfcc_feature = df_mfcc_feature.join(df_mfcc_iqr)\n",
    "\n",
    "mfcc_kurto = mfcc_feature.kurtosis()\n",
    "df_mfcc_kurto = pd.DataFrame(mfcc_kurto,columns=['mfcc_kurto_feature']*13)\n",
    "df_mfcc_feature = df_mfcc_feature.join(df_mfcc_kurto)\n",
    "\n",
    "mfcc_max = mfcc_feature.maximum()\n",
    "df_mfcc_max = pd.DataFrame(mfcc_max,columns=['mfcc_max_feature']*13)\n",
    "df_mfcc_feature = df_mfcc_feature.join(df_mfcc_max)\n",
    "\n",
    "mfcc_min = mfcc_feature.minimum()\n",
    "df_mfcc_min = pd.DataFrame(mfcc_min,columns=['mfcc_min_feature']*13)\n",
    "df_mfcc_feature = df_mfcc_feature.join(df_mfcc_min)\n",
    "\n",
    "mfcc_median = mfcc_feature.median()\n",
    "df_mfcc_median = pd.DataFrame(mfcc_median,columns=['mfcc_median_feature']*13)\n",
    "df_mfcc_feature = df_mfcc_feature.join(df_mfcc_median)\n",
    "\n",
    "mfcc_qtl1 = mfcc_feature.quartile_1st()\n",
    "df_mfcc_qtl1 = pd.DataFrame(mfcc_qtl1,columns=['mfcc_quartile1_feature']*13)\n",
    "df_mfcc_feature = df_mfcc_feature.join(df_mfcc_qtl1)\n",
    "\n",
    "mfcc_qtl3 = mfcc_feature.quartile_3rd()\n",
    "df_mfcc_qtl3 = pd.DataFrame(mfcc_qtl3,columns=['mfcc_quartile3_feature']*13)\n",
    "df_mfcc_feature = df_mfcc_feature.join(df_mfcc_qtl3)\n",
    "\n",
    "mfcc_skew = mfcc_feature.skewness()\n",
    "df_mfcc_skew = pd.DataFrame(mfcc_skew,columns=['mfcc_skewness_feature']*13)\n",
    "df_mfcc_feature = df_mfcc_feature.join(df_mfcc_skew)\n",
    "\n",
    "mfcc_rms = mfcc_feature.get_rms()\n",
    "df_mfcc_rms = pd.DataFrame(mfcc_rms,columns=['mfcc_rms_feature']*13)\n",
    "df_mfcc_feature = df_mfcc_feature.join(df_mfcc_rms)\n"
   ]
  },
  {
   "cell_type": "code",
   "execution_count": 7,
   "metadata": {},
   "outputs": [
    {
     "data": {
      "text/html": [
       "<div>\n",
       "<style scoped>\n",
       "    .dataframe tbody tr th:only-of-type {\n",
       "        vertical-align: middle;\n",
       "    }\n",
       "\n",
       "    .dataframe tbody tr th {\n",
       "        vertical-align: top;\n",
       "    }\n",
       "\n",
       "    .dataframe thead th {\n",
       "        text-align: right;\n",
       "    }\n",
       "</style>\n",
       "<table border=\"1\" class=\"dataframe\">\n",
       "  <thead>\n",
       "    <tr style=\"text-align: right;\">\n",
       "      <th></th>\n",
       "      <th>0</th>\n",
       "      <th>1</th>\n",
       "      <th>2</th>\n",
       "      <th>3</th>\n",
       "      <th>4</th>\n",
       "    </tr>\n",
       "  </thead>\n",
       "  <tbody>\n",
       "    <tr>\n",
       "      <th>mfcc_mean_feature</th>\n",
       "      <td>-765.857361</td>\n",
       "      <td>-673.794434</td>\n",
       "      <td>-718.185974</td>\n",
       "      <td>-771.010437</td>\n",
       "      <td>-652.407043</td>\n",
       "    </tr>\n",
       "    <tr>\n",
       "      <th>mfcc_mean_feature</th>\n",
       "      <td>56.635921</td>\n",
       "      <td>39.070114</td>\n",
       "      <td>66.435989</td>\n",
       "      <td>65.506836</td>\n",
       "      <td>99.792557</td>\n",
       "    </tr>\n",
       "    <tr>\n",
       "      <th>mfcc_mean_feature</th>\n",
       "      <td>-7.718951</td>\n",
       "      <td>-55.959335</td>\n",
       "      <td>-7.685933</td>\n",
       "      <td>10.993238</td>\n",
       "      <td>-42.095676</td>\n",
       "    </tr>\n",
       "    <tr>\n",
       "      <th>mfcc_mean_feature</th>\n",
       "      <td>-5.349398</td>\n",
       "      <td>-3.420140</td>\n",
       "      <td>21.239208</td>\n",
       "      <td>14.352894</td>\n",
       "      <td>30.789314</td>\n",
       "    </tr>\n",
       "    <tr>\n",
       "      <th>mfcc_mean_feature</th>\n",
       "      <td>-2.479132</td>\n",
       "      <td>-32.085152</td>\n",
       "      <td>-40.569927</td>\n",
       "      <td>-20.039225</td>\n",
       "      <td>-26.789732</td>\n",
       "    </tr>\n",
       "    <tr>\n",
       "      <th>...</th>\n",
       "      <td>...</td>\n",
       "      <td>...</td>\n",
       "      <td>...</td>\n",
       "      <td>...</td>\n",
       "      <td>...</td>\n",
       "    </tr>\n",
       "    <tr>\n",
       "      <th>mfcc_rms_feature</th>\n",
       "      <td>13.979434</td>\n",
       "      <td>39.289099</td>\n",
       "      <td>12.166927</td>\n",
       "      <td>11.493811</td>\n",
       "      <td>8.813728</td>\n",
       "    </tr>\n",
       "    <tr>\n",
       "      <th>mfcc_rms_feature</th>\n",
       "      <td>6.377627</td>\n",
       "      <td>11.366460</td>\n",
       "      <td>30.442542</td>\n",
       "      <td>13.170262</td>\n",
       "      <td>16.047941</td>\n",
       "    </tr>\n",
       "    <tr>\n",
       "      <th>mfcc_rms_feature</th>\n",
       "      <td>14.007841</td>\n",
       "      <td>10.699667</td>\n",
       "      <td>11.237177</td>\n",
       "      <td>7.029454</td>\n",
       "      <td>19.779757</td>\n",
       "    </tr>\n",
       "    <tr>\n",
       "      <th>mfcc_rms_feature</th>\n",
       "      <td>6.766296</td>\n",
       "      <td>21.027959</td>\n",
       "      <td>9.660470</td>\n",
       "      <td>12.305389</td>\n",
       "      <td>10.055729</td>\n",
       "    </tr>\n",
       "    <tr>\n",
       "      <th>mfcc_rms_feature</th>\n",
       "      <td>8.104084</td>\n",
       "      <td>16.366894</td>\n",
       "      <td>14.450569</td>\n",
       "      <td>7.089626</td>\n",
       "      <td>8.191580</td>\n",
       "    </tr>\n",
       "  </tbody>\n",
       "</table>\n",
       "<p>143 rows × 5 columns</p>\n",
       "</div>"
      ],
      "text/plain": [
       "                            0           1           2           3           4\n",
       "mfcc_mean_feature -765.857361 -673.794434 -718.185974 -771.010437 -652.407043\n",
       "mfcc_mean_feature   56.635921   39.070114   66.435989   65.506836   99.792557\n",
       "mfcc_mean_feature   -7.718951  -55.959335   -7.685933   10.993238  -42.095676\n",
       "mfcc_mean_feature   -5.349398   -3.420140   21.239208   14.352894   30.789314\n",
       "mfcc_mean_feature   -2.479132  -32.085152  -40.569927  -20.039225  -26.789732\n",
       "...                       ...         ...         ...         ...         ...\n",
       "mfcc_rms_feature    13.979434   39.289099   12.166927   11.493811    8.813728\n",
       "mfcc_rms_feature     6.377627   11.366460   30.442542   13.170262   16.047941\n",
       "mfcc_rms_feature    14.007841   10.699667   11.237177    7.029454   19.779757\n",
       "mfcc_rms_feature     6.766296   21.027959    9.660470   12.305389   10.055729\n",
       "mfcc_rms_feature     8.104084   16.366894   14.450569    7.089626    8.191580\n",
       "\n",
       "[143 rows x 5 columns]"
      ]
     },
     "execution_count": 7,
     "metadata": {},
     "output_type": "execute_result"
    }
   ],
   "source": [
    "df_mfcc_feature.head().T"
   ]
  },
  {
   "cell_type": "code",
   "execution_count": 8,
   "metadata": {},
   "outputs": [],
   "source": [
    "# computing a total of 11 statistics from the first 13 components of Delta MFCC\n",
    "mfccdelta_feature = mfcc_stat.mfcc_stat(mfccdelta)\n",
    "mfccdelta_mean = mfccdelta_feature.mean()\n",
    "df_mfccdelta_mean = pd.DataFrame(mfccdelta_mean,columns=['mfccdelta_mean_feature']*13)\n",
    "df_mfccdelta_feature = df_mfccdelta_mean\n",
    "\n",
    "mfccdelta_std = mfccdelta_feature.std()\n",
    "df_mfccdelta_std = pd.DataFrame(mfccdelta_std,columns=['mfccdelta_std_feature']*13)\n",
    "df_mfccdelta_feature = df_mfccdelta_feature.join(df_mfccdelta_std)\n",
    "\n",
    "mfccdelta_iqr = mfccdelta_feature.interquartilerange()\n",
    "df_mfccdelta_iqr = pd.DataFrame(mfccdelta_iqr,columns=['mfccdelta_iqr_feature']*13)\n",
    "df_mfccdelta_feature = df_mfccdelta_feature.join(df_mfccdelta_iqr)\n",
    "\n",
    "mfccdelta_kurto = mfccdelta_feature.kurtosis()\n",
    "df_mfccdelta_kurto = pd.DataFrame(mfccdelta_kurto,columns=['mfccdelta_kurto_feature']*13)\n",
    "df_mfccdelta_feature = df_mfccdelta_feature.join(df_mfccdelta_kurto)\n",
    "\n",
    "mfccdelta_max = mfccdelta_feature.maximum()\n",
    "df_mfccdelta_max = pd.DataFrame(mfccdelta_max,columns=['mfccdelta_max_feature']*13)\n",
    "df_mfccdelta_feature = df_mfccdelta_feature.join(df_mfccdelta_max)\n",
    "\n",
    "mfccdelta_min = mfccdelta_feature.minimum()\n",
    "df_mfccdelta_min = pd.DataFrame(mfccdelta_min,columns=['mfccdelta_min_feature']*13)\n",
    "df_mfccdelta_feature = df_mfccdelta_feature.join(df_mfccdelta_min)\n",
    "\n",
    "mfccdelta_median = mfccdelta_feature.median()\n",
    "df_mfccdelta_median = pd.DataFrame(mfccdelta_median,columns=['mfccdelta_median_feature']*13)\n",
    "df_mfccdelta_feature = df_mfccdelta_feature.join(df_mfccdelta_median)\n",
    "\n",
    "mfccdelta_qtl1 = mfccdelta_feature.quartile_1st()\n",
    "df_mfccdelta_qtl1 = pd.DataFrame(mfccdelta_qtl1,columns=['mfccdelta_quartile1_feature']*13)\n",
    "df_mfccdelta_feature = df_mfccdelta_feature.join(df_mfccdelta_qtl1)\n",
    "\n",
    "mfccdelta_qtl3 = mfccdelta_feature.quartile_3rd()\n",
    "df_mfccdelta_qtl3 = pd.DataFrame(mfccdelta_qtl3,columns=['mfccdelta_quartile3_feature']*13)\n",
    "df_mfccdelta_feature = df_mfccdelta_feature.join(df_mfccdelta_qtl3)\n",
    "\n",
    "mfccdelta_skew = mfccdelta_feature.skewness()\n",
    "df_mfccdelta_skew = pd.DataFrame(mfccdelta_skew,columns=['mfccdelta_skewness_feature']*13)\n",
    "df_mfccdelta_feature = df_mfccdelta_feature.join(df_mfccdelta_skew)\n",
    "\n",
    "mfccdelta_rms = mfccdelta_feature.get_rms()\n",
    "df_mfccdelta_rms = pd.DataFrame(mfccdelta_rms,columns=['mfccdelta_rms_feature']*13)\n",
    "df_mfccdelta_feature = df_mfccdelta_feature.join(df_mfccdelta_rms)\n"
   ]
  },
  {
   "cell_type": "code",
   "execution_count": 9,
   "metadata": {},
   "outputs": [
    {
     "data": {
      "text/html": [
       "<div>\n",
       "<style scoped>\n",
       "    .dataframe tbody tr th:only-of-type {\n",
       "        vertical-align: middle;\n",
       "    }\n",
       "\n",
       "    .dataframe tbody tr th {\n",
       "        vertical-align: top;\n",
       "    }\n",
       "\n",
       "    .dataframe thead th {\n",
       "        text-align: right;\n",
       "    }\n",
       "</style>\n",
       "<table border=\"1\" class=\"dataframe\">\n",
       "  <thead>\n",
       "    <tr style=\"text-align: right;\">\n",
       "      <th></th>\n",
       "      <th>0</th>\n",
       "      <th>1</th>\n",
       "      <th>2</th>\n",
       "      <th>3</th>\n",
       "      <th>4</th>\n",
       "    </tr>\n",
       "  </thead>\n",
       "  <tbody>\n",
       "    <tr>\n",
       "      <th>mfccdelta_mean_feature</th>\n",
       "      <td>-0.146090</td>\n",
       "      <td>0.310150</td>\n",
       "      <td>-0.068103</td>\n",
       "      <td>0.181848</td>\n",
       "      <td>0.726761</td>\n",
       "    </tr>\n",
       "    <tr>\n",
       "      <th>mfccdelta_mean_feature</th>\n",
       "      <td>-0.151706</td>\n",
       "      <td>0.451770</td>\n",
       "      <td>-0.305376</td>\n",
       "      <td>0.121666</td>\n",
       "      <td>0.389425</td>\n",
       "    </tr>\n",
       "    <tr>\n",
       "      <th>mfccdelta_mean_feature</th>\n",
       "      <td>-0.040220</td>\n",
       "      <td>-0.036425</td>\n",
       "      <td>-0.092710</td>\n",
       "      <td>0.044122</td>\n",
       "      <td>-0.087469</td>\n",
       "    </tr>\n",
       "    <tr>\n",
       "      <th>mfccdelta_mean_feature</th>\n",
       "      <td>0.023623</td>\n",
       "      <td>-0.346961</td>\n",
       "      <td>-0.001072</td>\n",
       "      <td>-0.061309</td>\n",
       "      <td>0.030319</td>\n",
       "    </tr>\n",
       "    <tr>\n",
       "      <th>mfccdelta_mean_feature</th>\n",
       "      <td>0.006809</td>\n",
       "      <td>-0.082435</td>\n",
       "      <td>-0.134195</td>\n",
       "      <td>-0.130874</td>\n",
       "      <td>-0.122579</td>\n",
       "    </tr>\n",
       "    <tr>\n",
       "      <th>...</th>\n",
       "      <td>...</td>\n",
       "      <td>...</td>\n",
       "      <td>...</td>\n",
       "      <td>...</td>\n",
       "      <td>...</td>\n",
       "    </tr>\n",
       "    <tr>\n",
       "      <th>mfccdelta_rms_feature</th>\n",
       "      <td>1.741584</td>\n",
       "      <td>4.475665</td>\n",
       "      <td>1.729634</td>\n",
       "      <td>1.713301</td>\n",
       "      <td>1.479621</td>\n",
       "    </tr>\n",
       "    <tr>\n",
       "      <th>mfccdelta_rms_feature</th>\n",
       "      <td>1.178085</td>\n",
       "      <td>2.286302</td>\n",
       "      <td>3.076882</td>\n",
       "      <td>1.841228</td>\n",
       "      <td>2.043853</td>\n",
       "    </tr>\n",
       "    <tr>\n",
       "      <th>mfccdelta_rms_feature</th>\n",
       "      <td>2.442429</td>\n",
       "      <td>2.070615</td>\n",
       "      <td>1.900294</td>\n",
       "      <td>1.315970</td>\n",
       "      <td>2.131574</td>\n",
       "    </tr>\n",
       "    <tr>\n",
       "      <th>mfccdelta_rms_feature</th>\n",
       "      <td>1.018237</td>\n",
       "      <td>2.701472</td>\n",
       "      <td>1.435105</td>\n",
       "      <td>1.530184</td>\n",
       "      <td>1.896406</td>\n",
       "    </tr>\n",
       "    <tr>\n",
       "      <th>mfccdelta_rms_feature</th>\n",
       "      <td>1.170920</td>\n",
       "      <td>2.606992</td>\n",
       "      <td>2.139350</td>\n",
       "      <td>1.253541</td>\n",
       "      <td>1.485487</td>\n",
       "    </tr>\n",
       "  </tbody>\n",
       "</table>\n",
       "<p>143 rows × 5 columns</p>\n",
       "</div>"
      ],
      "text/plain": [
       "                               0         1         2         3         4\n",
       "mfccdelta_mean_feature -0.146090  0.310150 -0.068103  0.181848  0.726761\n",
       "mfccdelta_mean_feature -0.151706  0.451770 -0.305376  0.121666  0.389425\n",
       "mfccdelta_mean_feature -0.040220 -0.036425 -0.092710  0.044122 -0.087469\n",
       "mfccdelta_mean_feature  0.023623 -0.346961 -0.001072 -0.061309  0.030319\n",
       "mfccdelta_mean_feature  0.006809 -0.082435 -0.134195 -0.130874 -0.122579\n",
       "...                          ...       ...       ...       ...       ...\n",
       "mfccdelta_rms_feature   1.741584  4.475665  1.729634  1.713301  1.479621\n",
       "mfccdelta_rms_feature   1.178085  2.286302  3.076882  1.841228  2.043853\n",
       "mfccdelta_rms_feature   2.442429  2.070615  1.900294  1.315970  2.131574\n",
       "mfccdelta_rms_feature   1.018237  2.701472  1.435105  1.530184  1.896406\n",
       "mfccdelta_rms_feature   1.170920  2.606992  2.139350  1.253541  1.485487\n",
       "\n",
       "[143 rows x 5 columns]"
      ]
     },
     "execution_count": 9,
     "metadata": {},
     "output_type": "execute_result"
    }
   ],
   "source": [
    "df_mfccdelta_feature.head().T"
   ]
  },
  {
   "cell_type": "code",
   "execution_count": 10,
   "metadata": {},
   "outputs": [],
   "source": [
    "# computing a total of 11 statistics from the first 13 components of Delta2 MFCC\n",
    "mfccdelta2_feature = mfcc_stat.mfcc_stat(mfcc2delta)\n",
    "mfccdelta2_mean = mfccdelta2_feature.mean()\n",
    "df_mfccdelta2_mean = pd.DataFrame(mfccdelta2_mean,columns=['mfccdelta2_mean_feature']*13)\n",
    "df_mfccdelta2_feature = df_mfccdelta2_mean\n",
    "\n",
    "mfccdelta2_std = mfccdelta2_feature.std()\n",
    "df_mfccdelta2_std = pd.DataFrame(mfccdelta2_std,columns=['mfccdelta2_std_feature']*13)\n",
    "df_mfccdelta2_feature = df_mfccdelta2_feature.join(df_mfccdelta2_std)\n",
    "\n",
    "mfccdelta2_iqr = mfccdelta2_feature.interquartilerange()\n",
    "df_mfccdelta2_iqr = pd.DataFrame(mfccdelta2_iqr,columns=['mfccdelta2_iqr_feature']*13)\n",
    "df_mfccdelta2_feature = df_mfccdelta2_feature.join(df_mfccdelta2_iqr)\n",
    "\n",
    "mfccdelta2_kurto = mfccdelta2_feature.kurtosis()\n",
    "df_mfccdelta2_kurto = pd.DataFrame(mfccdelta2_kurto,columns=['mfccdelta2_kurto_feature']*13)\n",
    "df_mfccdelta2_feature = df_mfccdelta2_feature.join(df_mfccdelta2_kurto)\n",
    "\n",
    "mfccdelta2_max = mfccdelta2_feature.maximum()\n",
    "df_mfccdelta2_max = pd.DataFrame(mfccdelta2_max,columns=['mfccdelta2_max_feature']*13)\n",
    "df_mfccdelta2_feature = df_mfccdelta2_feature.join(df_mfccdelta2_max)\n",
    "\n",
    "mfccdelta2_min = mfccdelta2_feature.minimum()\n",
    "df_mfccdelta2_min = pd.DataFrame(mfccdelta2_min,columns=['mfccdelta2_min_feature']*13)\n",
    "df_mfccdelta2_feature = df_mfccdelta2_feature.join(df_mfccdelta2_min)\n",
    "\n",
    "mfccdelta2_median = mfccdelta2_feature.median()\n",
    "df_mfccdelta2_median = pd.DataFrame(mfccdelta2_median,columns=['mfccdelta2_median_feature']*13)\n",
    "df_mfccdelta2_feature = df_mfccdelta2_feature.join(df_mfccdelta2_median)\n",
    "\n",
    "mfccdelta2_qtl1 = mfccdelta2_feature.quartile_1st()\n",
    "df_mfccdelta2_qtl1 = pd.DataFrame(mfccdelta2_qtl1,columns=['mfccdelta2_quartile1_feature']*13)\n",
    "df_mfccdelta2_feature = df_mfccdelta2_feature.join(df_mfccdelta2_qtl1)\n",
    "\n",
    "mfccdelta2_qtl3 = mfccdelta2_feature.quartile_3rd()\n",
    "df_mfccdelta2_qtl3 = pd.DataFrame(mfccdelta2_qtl3,columns=['mfccdelta2_quartile3_feature']*13)\n",
    "df_mfccdelta2_feature = df_mfccdelta2_feature.join(df_mfccdelta2_qtl3)\n",
    "\n",
    "mfccdelta2_skew = mfccdelta2_feature.skewness()\n",
    "df_mfccdelta2_skew = pd.DataFrame(mfccdelta2_skew,columns=['mfccdelta2_skewness_feature']*13)\n",
    "df_mfccdelta2_feature = df_mfccdelta2_feature.join(df_mfccdelta2_skew)\n",
    "\n",
    "mfccdelta2_rms = mfccdelta2_feature.get_rms()\n",
    "df_mfccdelta2_rms = pd.DataFrame(mfccdelta2_rms,columns=['mfccdelta2_rms_feature']*13)\n",
    "df_mfccdelta2_feature = df_mfccdelta2_feature.join(df_mfccdelta2_rms)\n"
   ]
  },
  {
   "cell_type": "code",
   "execution_count": 11,
   "metadata": {},
   "outputs": [
    {
     "data": {
      "text/html": [
       "<div>\n",
       "<style scoped>\n",
       "    .dataframe tbody tr th:only-of-type {\n",
       "        vertical-align: middle;\n",
       "    }\n",
       "\n",
       "    .dataframe tbody tr th {\n",
       "        vertical-align: top;\n",
       "    }\n",
       "\n",
       "    .dataframe thead th {\n",
       "        text-align: right;\n",
       "    }\n",
       "</style>\n",
       "<table border=\"1\" class=\"dataframe\">\n",
       "  <thead>\n",
       "    <tr style=\"text-align: right;\">\n",
       "      <th></th>\n",
       "      <th>0</th>\n",
       "      <th>1</th>\n",
       "      <th>2</th>\n",
       "      <th>3</th>\n",
       "      <th>4</th>\n",
       "    </tr>\n",
       "  </thead>\n",
       "  <tbody>\n",
       "    <tr>\n",
       "      <th>mfccdelta2_mean_feature</th>\n",
       "      <td>-0.012415</td>\n",
       "      <td>0.082967</td>\n",
       "      <td>-0.258965</td>\n",
       "      <td>0.064679</td>\n",
       "      <td>-0.293373</td>\n",
       "    </tr>\n",
       "    <tr>\n",
       "      <th>mfccdelta2_mean_feature</th>\n",
       "      <td>-0.011710</td>\n",
       "      <td>0.188356</td>\n",
       "      <td>-0.302228</td>\n",
       "      <td>0.041547</td>\n",
       "      <td>-0.024611</td>\n",
       "    </tr>\n",
       "    <tr>\n",
       "      <th>mfccdelta2_mean_feature</th>\n",
       "      <td>0.004304</td>\n",
       "      <td>0.038664</td>\n",
       "      <td>-0.068151</td>\n",
       "      <td>0.024756</td>\n",
       "      <td>0.109241</td>\n",
       "    </tr>\n",
       "    <tr>\n",
       "      <th>mfccdelta2_mean_feature</th>\n",
       "      <td>0.016600</td>\n",
       "      <td>-0.008935</td>\n",
       "      <td>0.017337</td>\n",
       "      <td>-0.003380</td>\n",
       "      <td>-0.022185</td>\n",
       "    </tr>\n",
       "    <tr>\n",
       "      <th>mfccdelta2_mean_feature</th>\n",
       "      <td>0.011651</td>\n",
       "      <td>0.125034</td>\n",
       "      <td>0.016279</td>\n",
       "      <td>-0.024954</td>\n",
       "      <td>0.063565</td>\n",
       "    </tr>\n",
       "    <tr>\n",
       "      <th>...</th>\n",
       "      <td>...</td>\n",
       "      <td>...</td>\n",
       "      <td>...</td>\n",
       "      <td>...</td>\n",
       "      <td>...</td>\n",
       "    </tr>\n",
       "    <tr>\n",
       "      <th>mfccdelta2_rms_feature</th>\n",
       "      <td>1.005784</td>\n",
       "      <td>2.104446</td>\n",
       "      <td>1.105345</td>\n",
       "      <td>1.083020</td>\n",
       "      <td>1.162813</td>\n",
       "    </tr>\n",
       "    <tr>\n",
       "      <th>mfccdelta2_rms_feature</th>\n",
       "      <td>0.783915</td>\n",
       "      <td>1.342029</td>\n",
       "      <td>1.849997</td>\n",
       "      <td>1.220935</td>\n",
       "      <td>1.075796</td>\n",
       "    </tr>\n",
       "    <tr>\n",
       "      <th>mfccdelta2_rms_feature</th>\n",
       "      <td>1.303082</td>\n",
       "      <td>1.365444</td>\n",
       "      <td>1.126090</td>\n",
       "      <td>0.840846</td>\n",
       "      <td>1.301782</td>\n",
       "    </tr>\n",
       "    <tr>\n",
       "      <th>mfccdelta2_rms_feature</th>\n",
       "      <td>0.693466</td>\n",
       "      <td>1.800500</td>\n",
       "      <td>0.961305</td>\n",
       "      <td>0.945776</td>\n",
       "      <td>1.127132</td>\n",
       "    </tr>\n",
       "    <tr>\n",
       "      <th>mfccdelta2_rms_feature</th>\n",
       "      <td>0.675729</td>\n",
       "      <td>1.422219</td>\n",
       "      <td>1.161680</td>\n",
       "      <td>0.703270</td>\n",
       "      <td>1.111508</td>\n",
       "    </tr>\n",
       "  </tbody>\n",
       "</table>\n",
       "<p>143 rows × 5 columns</p>\n",
       "</div>"
      ],
      "text/plain": [
       "                                0         1         2         3         4\n",
       "mfccdelta2_mean_feature -0.012415  0.082967 -0.258965  0.064679 -0.293373\n",
       "mfccdelta2_mean_feature -0.011710  0.188356 -0.302228  0.041547 -0.024611\n",
       "mfccdelta2_mean_feature  0.004304  0.038664 -0.068151  0.024756  0.109241\n",
       "mfccdelta2_mean_feature  0.016600 -0.008935  0.017337 -0.003380 -0.022185\n",
       "mfccdelta2_mean_feature  0.011651  0.125034  0.016279 -0.024954  0.063565\n",
       "...                           ...       ...       ...       ...       ...\n",
       "mfccdelta2_rms_feature   1.005784  2.104446  1.105345  1.083020  1.162813\n",
       "mfccdelta2_rms_feature   0.783915  1.342029  1.849997  1.220935  1.075796\n",
       "mfccdelta2_rms_feature   1.303082  1.365444  1.126090  0.840846  1.301782\n",
       "mfccdelta2_rms_feature   0.693466  1.800500  0.961305  0.945776  1.127132\n",
       "mfccdelta2_rms_feature   0.675729  1.422219  1.161680  0.703270  1.111508\n",
       "\n",
       "[143 rows x 5 columns]"
      ]
     },
     "execution_count": 11,
     "metadata": {},
     "output_type": "execute_result"
    }
   ],
   "source": [
    "df_mfccdelta2_feature.head().T"
   ]
  },
  {
   "cell_type": "code",
   "execution_count": 12,
   "metadata": {},
   "outputs": [],
   "source": [
    "# joining the MFCC features into one dataframe\n",
    "mfcc_feature = df_mfcc_feature.join(df_mfccdelta_feature)\n",
    "mfcc_feature = mfcc_feature.join(df_mfccdelta2_feature)"
   ]
  },
  {
   "cell_type": "code",
   "execution_count": 13,
   "metadata": {},
   "outputs": [
    {
     "data": {
      "text/html": [
       "<div>\n",
       "<style scoped>\n",
       "    .dataframe tbody tr th:only-of-type {\n",
       "        vertical-align: middle;\n",
       "    }\n",
       "\n",
       "    .dataframe tbody tr th {\n",
       "        vertical-align: top;\n",
       "    }\n",
       "\n",
       "    .dataframe thead th {\n",
       "        text-align: right;\n",
       "    }\n",
       "</style>\n",
       "<table border=\"1\" class=\"dataframe\">\n",
       "  <thead>\n",
       "    <tr style=\"text-align: right;\">\n",
       "      <th></th>\n",
       "      <th>0</th>\n",
       "      <th>1</th>\n",
       "      <th>2</th>\n",
       "      <th>3</th>\n",
       "      <th>4</th>\n",
       "    </tr>\n",
       "  </thead>\n",
       "  <tbody>\n",
       "    <tr>\n",
       "      <th>mfcc_mean_feature</th>\n",
       "      <td>-765.857361</td>\n",
       "      <td>-673.794434</td>\n",
       "      <td>-718.185974</td>\n",
       "      <td>-771.010437</td>\n",
       "      <td>-652.407043</td>\n",
       "    </tr>\n",
       "    <tr>\n",
       "      <th>mfcc_mean_feature</th>\n",
       "      <td>56.635921</td>\n",
       "      <td>39.070114</td>\n",
       "      <td>66.435989</td>\n",
       "      <td>65.506836</td>\n",
       "      <td>99.792557</td>\n",
       "    </tr>\n",
       "    <tr>\n",
       "      <th>mfcc_mean_feature</th>\n",
       "      <td>-7.718951</td>\n",
       "      <td>-55.959335</td>\n",
       "      <td>-7.685933</td>\n",
       "      <td>10.993238</td>\n",
       "      <td>-42.095676</td>\n",
       "    </tr>\n",
       "    <tr>\n",
       "      <th>mfcc_mean_feature</th>\n",
       "      <td>-5.349398</td>\n",
       "      <td>-3.420140</td>\n",
       "      <td>21.239208</td>\n",
       "      <td>14.352894</td>\n",
       "      <td>30.789314</td>\n",
       "    </tr>\n",
       "    <tr>\n",
       "      <th>mfcc_mean_feature</th>\n",
       "      <td>-2.479132</td>\n",
       "      <td>-32.085152</td>\n",
       "      <td>-40.569927</td>\n",
       "      <td>-20.039225</td>\n",
       "      <td>-26.789732</td>\n",
       "    </tr>\n",
       "    <tr>\n",
       "      <th>...</th>\n",
       "      <td>...</td>\n",
       "      <td>...</td>\n",
       "      <td>...</td>\n",
       "      <td>...</td>\n",
       "      <td>...</td>\n",
       "    </tr>\n",
       "    <tr>\n",
       "      <th>mfccdelta2_rms_feature</th>\n",
       "      <td>1.005784</td>\n",
       "      <td>2.104446</td>\n",
       "      <td>1.105345</td>\n",
       "      <td>1.083020</td>\n",
       "      <td>1.162813</td>\n",
       "    </tr>\n",
       "    <tr>\n",
       "      <th>mfccdelta2_rms_feature</th>\n",
       "      <td>0.783915</td>\n",
       "      <td>1.342029</td>\n",
       "      <td>1.849997</td>\n",
       "      <td>1.220935</td>\n",
       "      <td>1.075796</td>\n",
       "    </tr>\n",
       "    <tr>\n",
       "      <th>mfccdelta2_rms_feature</th>\n",
       "      <td>1.303082</td>\n",
       "      <td>1.365444</td>\n",
       "      <td>1.126090</td>\n",
       "      <td>0.840846</td>\n",
       "      <td>1.301782</td>\n",
       "    </tr>\n",
       "    <tr>\n",
       "      <th>mfccdelta2_rms_feature</th>\n",
       "      <td>0.693466</td>\n",
       "      <td>1.800500</td>\n",
       "      <td>0.961305</td>\n",
       "      <td>0.945776</td>\n",
       "      <td>1.127132</td>\n",
       "    </tr>\n",
       "    <tr>\n",
       "      <th>mfccdelta2_rms_feature</th>\n",
       "      <td>0.675729</td>\n",
       "      <td>1.422219</td>\n",
       "      <td>1.161680</td>\n",
       "      <td>0.703270</td>\n",
       "      <td>1.111508</td>\n",
       "    </tr>\n",
       "  </tbody>\n",
       "</table>\n",
       "<p>429 rows × 5 columns</p>\n",
       "</div>"
      ],
      "text/plain": [
       "                                 0           1           2           3  \\\n",
       "mfcc_mean_feature      -765.857361 -673.794434 -718.185974 -771.010437   \n",
       "mfcc_mean_feature        56.635921   39.070114   66.435989   65.506836   \n",
       "mfcc_mean_feature        -7.718951  -55.959335   -7.685933   10.993238   \n",
       "mfcc_mean_feature        -5.349398   -3.420140   21.239208   14.352894   \n",
       "mfcc_mean_feature        -2.479132  -32.085152  -40.569927  -20.039225   \n",
       "...                            ...         ...         ...         ...   \n",
       "mfccdelta2_rms_feature    1.005784    2.104446    1.105345    1.083020   \n",
       "mfccdelta2_rms_feature    0.783915    1.342029    1.849997    1.220935   \n",
       "mfccdelta2_rms_feature    1.303082    1.365444    1.126090    0.840846   \n",
       "mfccdelta2_rms_feature    0.693466    1.800500    0.961305    0.945776   \n",
       "mfccdelta2_rms_feature    0.675729    1.422219    1.161680    0.703270   \n",
       "\n",
       "                                 4  \n",
       "mfcc_mean_feature      -652.407043  \n",
       "mfcc_mean_feature        99.792557  \n",
       "mfcc_mean_feature       -42.095676  \n",
       "mfcc_mean_feature        30.789314  \n",
       "mfcc_mean_feature       -26.789732  \n",
       "...                            ...  \n",
       "mfccdelta2_rms_feature    1.162813  \n",
       "mfccdelta2_rms_feature    1.075796  \n",
       "mfccdelta2_rms_feature    1.301782  \n",
       "mfccdelta2_rms_feature    1.127132  \n",
       "mfccdelta2_rms_feature    1.111508  \n",
       "\n",
       "[429 rows x 5 columns]"
      ]
     },
     "execution_count": 13,
     "metadata": {},
     "output_type": "execute_result"
    }
   ],
   "source": [
    "mfcc_feature.head().T"
   ]
  },
  {
   "cell_type": "code",
   "execution_count": 14,
   "metadata": {},
   "outputs": [
    {
     "data": {
      "text/plain": [
       "(225, 429)"
      ]
     },
     "execution_count": 14,
     "metadata": {},
     "output_type": "execute_result"
    }
   ],
   "source": [
    "mfcc_feature.shape"
   ]
  },
  {
   "cell_type": "code",
   "execution_count": 15,
   "metadata": {},
   "outputs": [],
   "source": [
    "mfcc_feature.to_csv('mfcc_features.csv',index=False)"
   ]
  },
  {
   "cell_type": "markdown",
   "metadata": {},
   "source": [
    "## Extracting VGGISH features and statistics"
   ]
  },
  {
   "cell_type": "code",
   "execution_count": 16,
   "metadata": {},
   "outputs": [
    {
     "name": "stderr",
     "output_type": "stream",
     "text": [
      "\r",
      "  0%|                                                                                          | 0/225 [00:00<?, ?it/s]"
     ]
    },
    {
     "name": "stdout",
     "output_type": "stream",
     "text": [
      "WARNING:tensorflow:From C:\\Users\\deepd\\Anaconda3\\lib\\site-packages\\tf_slim\\layers\\layers.py:1089: Layer.apply (from tensorflow.python.keras.engine.base_layer_v1) is deprecated and will be removed in a future version.\n",
      "Instructions for updating:\n",
      "Please use `layer.__call__` method instead.\n",
      "WARNING:tensorflow:From C:\\Users\\deepd\\Anaconda3\\lib\\site-packages\\tf_slim\\layers\\layers.py:1666: flatten (from tensorflow.python.keras.legacy_tf_layers.core) is deprecated and will be removed in a future version.\n",
      "Instructions for updating:\n",
      "Use keras.layers.Flatten instead.\n",
      "INFO:tensorflow:Restoring parameters from vggish_model.ckpt\n"
     ]
    },
    {
     "name": "stderr",
     "output_type": "stream",
     "text": [
      "\r",
      "  0%|▎                                                                                 | 1/225 [00:04<15:00,  4.02s/it]"
     ]
    },
    {
     "name": "stdout",
     "output_type": "stream",
     "text": [
      "INFO:tensorflow:Restoring parameters from vggish_model.ckpt\n"
     ]
    },
    {
     "name": "stderr",
     "output_type": "stream",
     "text": [
      "\r",
      "  1%|▋                                                                                 | 2/225 [00:06<13:02,  3.51s/it]"
     ]
    },
    {
     "name": "stdout",
     "output_type": "stream",
     "text": [
      "INFO:tensorflow:Restoring parameters from vggish_model.ckpt\n"
     ]
    },
    {
     "name": "stderr",
     "output_type": "stream",
     "text": [
      "\r",
      "  1%|█                                                                                 | 3/225 [00:08<11:25,  3.09s/it]"
     ]
    },
    {
     "name": "stdout",
     "output_type": "stream",
     "text": [
      "INFO:tensorflow:Restoring parameters from vggish_model.ckpt\n"
     ]
    },
    {
     "name": "stderr",
     "output_type": "stream",
     "text": [
      "\r",
      "  2%|█▍                                                                                | 4/225 [00:10<10:23,  2.82s/it]"
     ]
    },
    {
     "name": "stdout",
     "output_type": "stream",
     "text": [
      "INFO:tensorflow:Restoring parameters from vggish_model.ckpt\n"
     ]
    },
    {
     "name": "stderr",
     "output_type": "stream",
     "text": [
      "\r",
      "  2%|█▊                                                                                | 5/225 [00:12<09:45,  2.66s/it]"
     ]
    },
    {
     "name": "stdout",
     "output_type": "stream",
     "text": [
      "INFO:tensorflow:Restoring parameters from vggish_model.ckpt\n"
     ]
    },
    {
     "name": "stderr",
     "output_type": "stream",
     "text": [
      "\r",
      "  3%|██▏                                                                               | 6/225 [00:15<09:16,  2.54s/it]"
     ]
    },
    {
     "name": "stdout",
     "output_type": "stream",
     "text": [
      "INFO:tensorflow:Restoring parameters from vggish_model.ckpt\n"
     ]
    },
    {
     "name": "stderr",
     "output_type": "stream",
     "text": [
      "\r",
      "  3%|██▌                                                                               | 7/225 [00:17<08:54,  2.45s/it]"
     ]
    },
    {
     "name": "stdout",
     "output_type": "stream",
     "text": [
      "INFO:tensorflow:Restoring parameters from vggish_model.ckpt\n"
     ]
    },
    {
     "name": "stderr",
     "output_type": "stream",
     "text": [
      "\r",
      "  4%|██▉                                                                               | 8/225 [00:19<08:39,  2.39s/it]"
     ]
    },
    {
     "name": "stdout",
     "output_type": "stream",
     "text": [
      "INFO:tensorflow:Restoring parameters from vggish_model.ckpt\n"
     ]
    },
    {
     "name": "stderr",
     "output_type": "stream",
     "text": [
      "\r",
      "  4%|███▎                                                                              | 9/225 [00:21<08:19,  2.31s/it]"
     ]
    },
    {
     "name": "stdout",
     "output_type": "stream",
     "text": [
      "INFO:tensorflow:Restoring parameters from vggish_model.ckpt\n"
     ]
    },
    {
     "name": "stderr",
     "output_type": "stream",
     "text": [
      "\r",
      "  4%|███▌                                                                             | 10/225 [00:23<08:03,  2.25s/it]"
     ]
    },
    {
     "name": "stdout",
     "output_type": "stream",
     "text": [
      "INFO:tensorflow:Restoring parameters from vggish_model.ckpt\n"
     ]
    },
    {
     "name": "stderr",
     "output_type": "stream",
     "text": [
      "\r",
      "  5%|███▉                                                                             | 11/225 [00:26<08:11,  2.30s/it]"
     ]
    },
    {
     "name": "stdout",
     "output_type": "stream",
     "text": [
      "INFO:tensorflow:Restoring parameters from vggish_model.ckpt\n"
     ]
    },
    {
     "name": "stderr",
     "output_type": "stream",
     "text": [
      "\r",
      "  5%|████▎                                                                            | 12/225 [00:28<07:57,  2.24s/it]"
     ]
    },
    {
     "name": "stdout",
     "output_type": "stream",
     "text": [
      "INFO:tensorflow:Restoring parameters from vggish_model.ckpt\n"
     ]
    },
    {
     "name": "stderr",
     "output_type": "stream",
     "text": [
      "\r",
      "  6%|████▋                                                                            | 13/225 [00:30<08:06,  2.30s/it]"
     ]
    },
    {
     "name": "stdout",
     "output_type": "stream",
     "text": [
      "INFO:tensorflow:Restoring parameters from vggish_model.ckpt\n"
     ]
    },
    {
     "name": "stderr",
     "output_type": "stream",
     "text": [
      "\r",
      "  6%|█████                                                                            | 14/225 [00:32<07:42,  2.19s/it]"
     ]
    },
    {
     "name": "stdout",
     "output_type": "stream",
     "text": [
      "INFO:tensorflow:Restoring parameters from vggish_model.ckpt\n"
     ]
    },
    {
     "name": "stderr",
     "output_type": "stream",
     "text": [
      "\r",
      "  7%|█████▍                                                                           | 15/225 [00:35<07:42,  2.20s/it]"
     ]
    },
    {
     "name": "stdout",
     "output_type": "stream",
     "text": [
      "INFO:tensorflow:Restoring parameters from vggish_model.ckpt\n"
     ]
    },
    {
     "name": "stderr",
     "output_type": "stream",
     "text": [
      "\r",
      "  7%|█████▊                                                                           | 16/225 [00:37<07:40,  2.20s/it]"
     ]
    },
    {
     "name": "stdout",
     "output_type": "stream",
     "text": [
      "INFO:tensorflow:Restoring parameters from vggish_model.ckpt\n"
     ]
    },
    {
     "name": "stderr",
     "output_type": "stream",
     "text": [
      "\r",
      "  8%|██████                                                                           | 17/225 [00:39<07:36,  2.20s/it]"
     ]
    },
    {
     "name": "stdout",
     "output_type": "stream",
     "text": [
      "INFO:tensorflow:Restoring parameters from vggish_model.ckpt\n"
     ]
    },
    {
     "name": "stderr",
     "output_type": "stream",
     "text": [
      "\r",
      "  8%|██████▍                                                                          | 18/225 [00:41<07:51,  2.28s/it]"
     ]
    },
    {
     "name": "stdout",
     "output_type": "stream",
     "text": [
      "INFO:tensorflow:Restoring parameters from vggish_model.ckpt\n"
     ]
    },
    {
     "name": "stderr",
     "output_type": "stream",
     "text": [
      "\r",
      "  8%|██████▊                                                                          | 19/225 [00:44<07:48,  2.27s/it]"
     ]
    },
    {
     "name": "stdout",
     "output_type": "stream",
     "text": [
      "INFO:tensorflow:Restoring parameters from vggish_model.ckpt\n"
     ]
    },
    {
     "name": "stderr",
     "output_type": "stream",
     "text": [
      "\r",
      "  9%|███████▏                                                                         | 20/225 [00:46<07:41,  2.25s/it]"
     ]
    },
    {
     "name": "stdout",
     "output_type": "stream",
     "text": [
      "INFO:tensorflow:Restoring parameters from vggish_model.ckpt\n"
     ]
    },
    {
     "name": "stderr",
     "output_type": "stream",
     "text": [
      "\r",
      "  9%|███████▌                                                                         | 21/225 [00:48<07:50,  2.31s/it]"
     ]
    },
    {
     "name": "stdout",
     "output_type": "stream",
     "text": [
      "INFO:tensorflow:Restoring parameters from vggish_model.ckpt\n"
     ]
    },
    {
     "name": "stderr",
     "output_type": "stream",
     "text": [
      "\r",
      " 10%|███████▉                                                                         | 22/225 [00:51<07:44,  2.29s/it]"
     ]
    },
    {
     "name": "stdout",
     "output_type": "stream",
     "text": [
      "INFO:tensorflow:Restoring parameters from vggish_model.ckpt\n"
     ]
    },
    {
     "name": "stderr",
     "output_type": "stream",
     "text": [
      "\r",
      " 10%|████████▎                                                                        | 23/225 [00:53<07:39,  2.28s/it]"
     ]
    },
    {
     "name": "stdout",
     "output_type": "stream",
     "text": [
      "INFO:tensorflow:Restoring parameters from vggish_model.ckpt\n"
     ]
    },
    {
     "name": "stderr",
     "output_type": "stream",
     "text": [
      "\r",
      " 11%|████████▋                                                                        | 24/225 [00:55<07:26,  2.22s/it]"
     ]
    },
    {
     "name": "stdout",
     "output_type": "stream",
     "text": [
      "INFO:tensorflow:Restoring parameters from vggish_model.ckpt\n"
     ]
    },
    {
     "name": "stderr",
     "output_type": "stream",
     "text": [
      "\r",
      " 11%|█████████                                                                        | 25/225 [00:57<07:22,  2.21s/it]"
     ]
    },
    {
     "name": "stdout",
     "output_type": "stream",
     "text": [
      "INFO:tensorflow:Restoring parameters from vggish_model.ckpt\n"
     ]
    },
    {
     "name": "stderr",
     "output_type": "stream",
     "text": [
      "\r",
      " 12%|█████████▎                                                                       | 26/225 [00:59<07:16,  2.19s/it]"
     ]
    },
    {
     "name": "stdout",
     "output_type": "stream",
     "text": [
      "INFO:tensorflow:Restoring parameters from vggish_model.ckpt\n"
     ]
    },
    {
     "name": "stderr",
     "output_type": "stream",
     "text": [
      "\r",
      " 12%|█████████▋                                                                       | 27/225 [01:01<07:18,  2.21s/it]"
     ]
    },
    {
     "name": "stdout",
     "output_type": "stream",
     "text": [
      "INFO:tensorflow:Restoring parameters from vggish_model.ckpt\n"
     ]
    },
    {
     "name": "stderr",
     "output_type": "stream",
     "text": [
      "\r",
      " 12%|██████████                                                                       | 28/225 [01:04<07:12,  2.19s/it]"
     ]
    },
    {
     "name": "stdout",
     "output_type": "stream",
     "text": [
      "INFO:tensorflow:Restoring parameters from vggish_model.ckpt\n"
     ]
    },
    {
     "name": "stderr",
     "output_type": "stream",
     "text": [
      "\r",
      " 13%|██████████▍                                                                      | 29/225 [01:06<07:10,  2.20s/it]"
     ]
    },
    {
     "name": "stdout",
     "output_type": "stream",
     "text": [
      "INFO:tensorflow:Restoring parameters from vggish_model.ckpt\n"
     ]
    },
    {
     "name": "stderr",
     "output_type": "stream",
     "text": [
      "\r",
      " 13%|██████████▊                                                                      | 30/225 [01:08<07:08,  2.20s/it]"
     ]
    },
    {
     "name": "stdout",
     "output_type": "stream",
     "text": [
      "INFO:tensorflow:Restoring parameters from vggish_model.ckpt\n"
     ]
    },
    {
     "name": "stderr",
     "output_type": "stream",
     "text": [
      "\r",
      " 14%|███████████▏                                                                     | 31/225 [01:10<07:12,  2.23s/it]"
     ]
    },
    {
     "name": "stdout",
     "output_type": "stream",
     "text": [
      "INFO:tensorflow:Restoring parameters from vggish_model.ckpt\n"
     ]
    },
    {
     "name": "stderr",
     "output_type": "stream",
     "text": [
      "\r",
      " 14%|███████████▌                                                                     | 32/225 [01:13<07:11,  2.24s/it]"
     ]
    },
    {
     "name": "stdout",
     "output_type": "stream",
     "text": [
      "INFO:tensorflow:Restoring parameters from vggish_model.ckpt\n"
     ]
    },
    {
     "name": "stderr",
     "output_type": "stream",
     "text": [
      "\r",
      " 15%|███████████▉                                                                     | 33/225 [01:15<07:16,  2.28s/it]"
     ]
    },
    {
     "name": "stdout",
     "output_type": "stream",
     "text": [
      "INFO:tensorflow:Restoring parameters from vggish_model.ckpt\n"
     ]
    },
    {
     "name": "stderr",
     "output_type": "stream",
     "text": [
      "\r",
      " 15%|████████████▏                                                                    | 34/225 [01:17<07:09,  2.25s/it]"
     ]
    },
    {
     "name": "stdout",
     "output_type": "stream",
     "text": [
      "INFO:tensorflow:Restoring parameters from vggish_model.ckpt\n"
     ]
    },
    {
     "name": "stderr",
     "output_type": "stream",
     "text": [
      "\r",
      " 16%|████████████▌                                                                    | 35/225 [01:20<07:13,  2.28s/it]"
     ]
    },
    {
     "name": "stdout",
     "output_type": "stream",
     "text": [
      "INFO:tensorflow:Restoring parameters from vggish_model.ckpt\n"
     ]
    },
    {
     "name": "stderr",
     "output_type": "stream",
     "text": [
      "\r",
      " 16%|████████████▉                                                                    | 36/225 [01:22<07:04,  2.25s/it]"
     ]
    },
    {
     "name": "stdout",
     "output_type": "stream",
     "text": [
      "INFO:tensorflow:Restoring parameters from vggish_model.ckpt\n"
     ]
    },
    {
     "name": "stderr",
     "output_type": "stream",
     "text": [
      "\r",
      " 16%|█████████████▎                                                                   | 37/225 [01:24<07:10,  2.29s/it]"
     ]
    },
    {
     "name": "stdout",
     "output_type": "stream",
     "text": [
      "INFO:tensorflow:Restoring parameters from vggish_model.ckpt\n"
     ]
    },
    {
     "name": "stderr",
     "output_type": "stream",
     "text": [
      "\r",
      " 17%|█████████████▋                                                                   | 38/225 [01:26<06:59,  2.24s/it]"
     ]
    },
    {
     "name": "stdout",
     "output_type": "stream",
     "text": [
      "INFO:tensorflow:Restoring parameters from vggish_model.ckpt\n"
     ]
    },
    {
     "name": "stderr",
     "output_type": "stream",
     "text": [
      "\r",
      " 17%|██████████████                                                                   | 39/225 [01:28<06:57,  2.24s/it]"
     ]
    },
    {
     "name": "stdout",
     "output_type": "stream",
     "text": [
      "INFO:tensorflow:Restoring parameters from vggish_model.ckpt\n"
     ]
    },
    {
     "name": "stderr",
     "output_type": "stream",
     "text": [
      "\r",
      " 18%|██████████████▍                                                                  | 40/225 [01:31<07:07,  2.31s/it]"
     ]
    },
    {
     "name": "stdout",
     "output_type": "stream",
     "text": [
      "INFO:tensorflow:Restoring parameters from vggish_model.ckpt\n"
     ]
    },
    {
     "name": "stderr",
     "output_type": "stream",
     "text": [
      "\r",
      " 18%|██████████████▊                                                                  | 41/225 [01:33<06:48,  2.22s/it]"
     ]
    },
    {
     "name": "stdout",
     "output_type": "stream",
     "text": [
      "INFO:tensorflow:Restoring parameters from vggish_model.ckpt\n"
     ]
    },
    {
     "name": "stderr",
     "output_type": "stream",
     "text": [
      "\r",
      " 19%|███████████████                                                                  | 42/225 [01:35<06:42,  2.20s/it]"
     ]
    },
    {
     "name": "stdout",
     "output_type": "stream",
     "text": [
      "INFO:tensorflow:Restoring parameters from vggish_model.ckpt\n"
     ]
    },
    {
     "name": "stderr",
     "output_type": "stream",
     "text": [
      "\r",
      " 19%|███████████████▍                                                                 | 43/225 [01:37<06:39,  2.19s/it]"
     ]
    },
    {
     "name": "stdout",
     "output_type": "stream",
     "text": [
      "INFO:tensorflow:Restoring parameters from vggish_model.ckpt\n"
     ]
    },
    {
     "name": "stderr",
     "output_type": "stream",
     "text": [
      "\r",
      " 20%|███████████████▊                                                                 | 44/225 [01:39<06:33,  2.17s/it]"
     ]
    },
    {
     "name": "stdout",
     "output_type": "stream",
     "text": [
      "INFO:tensorflow:Restoring parameters from vggish_model.ckpt\n"
     ]
    },
    {
     "name": "stderr",
     "output_type": "stream",
     "text": [
      "\r",
      " 20%|████████████████▏                                                                | 45/225 [01:41<06:16,  2.09s/it]"
     ]
    },
    {
     "name": "stdout",
     "output_type": "stream",
     "text": [
      "INFO:tensorflow:Restoring parameters from vggish_model.ckpt\n"
     ]
    },
    {
     "name": "stderr",
     "output_type": "stream",
     "text": [
      "\r",
      " 20%|████████████████▌                                                                | 46/225 [01:44<06:24,  2.15s/it]"
     ]
    },
    {
     "name": "stdout",
     "output_type": "stream",
     "text": [
      "INFO:tensorflow:Restoring parameters from vggish_model.ckpt\n"
     ]
    },
    {
     "name": "stderr",
     "output_type": "stream",
     "text": [
      "\r",
      " 21%|████████████████▉                                                                | 47/225 [01:46<06:40,  2.25s/it]"
     ]
    },
    {
     "name": "stdout",
     "output_type": "stream",
     "text": [
      "INFO:tensorflow:Restoring parameters from vggish_model.ckpt\n"
     ]
    },
    {
     "name": "stderr",
     "output_type": "stream",
     "text": [
      "\r",
      " 21%|█████████████████▎                                                               | 48/225 [01:48<06:41,  2.27s/it]"
     ]
    },
    {
     "name": "stdout",
     "output_type": "stream",
     "text": [
      "INFO:tensorflow:Restoring parameters from vggish_model.ckpt\n"
     ]
    },
    {
     "name": "stderr",
     "output_type": "stream",
     "text": [
      "\r",
      " 22%|█████████████████▋                                                               | 49/225 [01:51<06:45,  2.30s/it]"
     ]
    },
    {
     "name": "stdout",
     "output_type": "stream",
     "text": [
      "INFO:tensorflow:Restoring parameters from vggish_model.ckpt\n"
     ]
    },
    {
     "name": "stderr",
     "output_type": "stream",
     "text": [
      "\r",
      " 22%|██████████████████                                                               | 50/225 [01:53<06:34,  2.25s/it]"
     ]
    },
    {
     "name": "stdout",
     "output_type": "stream",
     "text": [
      "INFO:tensorflow:Restoring parameters from vggish_model.ckpt\n"
     ]
    },
    {
     "name": "stderr",
     "output_type": "stream",
     "text": [
      "\r",
      " 23%|██████████████████▎                                                              | 51/225 [01:55<06:34,  2.26s/it]"
     ]
    },
    {
     "name": "stdout",
     "output_type": "stream",
     "text": [
      "INFO:tensorflow:Restoring parameters from vggish_model.ckpt\n"
     ]
    },
    {
     "name": "stderr",
     "output_type": "stream",
     "text": [
      "\r",
      " 23%|██████████████████▋                                                              | 52/225 [01:57<06:24,  2.22s/it]"
     ]
    },
    {
     "name": "stdout",
     "output_type": "stream",
     "text": [
      "INFO:tensorflow:Restoring parameters from vggish_model.ckpt\n"
     ]
    },
    {
     "name": "stderr",
     "output_type": "stream",
     "text": [
      "\r",
      " 24%|███████████████████                                                              | 53/225 [01:59<06:14,  2.18s/it]"
     ]
    },
    {
     "name": "stdout",
     "output_type": "stream",
     "text": [
      "INFO:tensorflow:Restoring parameters from vggish_model.ckpt\n"
     ]
    },
    {
     "name": "stderr",
     "output_type": "stream",
     "text": [
      "\r",
      " 24%|███████████████████▍                                                             | 54/225 [02:02<06:28,  2.27s/it]"
     ]
    },
    {
     "name": "stdout",
     "output_type": "stream",
     "text": [
      "INFO:tensorflow:Restoring parameters from vggish_model.ckpt\n"
     ]
    },
    {
     "name": "stderr",
     "output_type": "stream",
     "text": [
      "\r",
      " 24%|███████████████████▊                                                             | 55/225 [02:04<06:33,  2.32s/it]"
     ]
    },
    {
     "name": "stdout",
     "output_type": "stream",
     "text": [
      "INFO:tensorflow:Restoring parameters from vggish_model.ckpt\n"
     ]
    },
    {
     "name": "stderr",
     "output_type": "stream",
     "text": [
      "\r",
      " 25%|████████████████████▏                                                            | 56/225 [02:07<06:29,  2.30s/it]"
     ]
    },
    {
     "name": "stdout",
     "output_type": "stream",
     "text": [
      "INFO:tensorflow:Restoring parameters from vggish_model.ckpt\n"
     ]
    },
    {
     "name": "stderr",
     "output_type": "stream",
     "text": [
      "\r",
      " 25%|████████████████████▌                                                            | 57/225 [02:09<06:27,  2.31s/it]"
     ]
    },
    {
     "name": "stdout",
     "output_type": "stream",
     "text": [
      "INFO:tensorflow:Restoring parameters from vggish_model.ckpt\n"
     ]
    },
    {
     "name": "stderr",
     "output_type": "stream",
     "text": [
      "\r",
      " 26%|████████████████████▉                                                            | 58/225 [02:11<06:18,  2.27s/it]"
     ]
    },
    {
     "name": "stdout",
     "output_type": "stream",
     "text": [
      "INFO:tensorflow:Restoring parameters from vggish_model.ckpt\n"
     ]
    },
    {
     "name": "stderr",
     "output_type": "stream",
     "text": [
      "\r",
      " 26%|█████████████████████▏                                                           | 59/225 [02:13<06:13,  2.25s/it]"
     ]
    },
    {
     "name": "stdout",
     "output_type": "stream",
     "text": [
      "INFO:tensorflow:Restoring parameters from vggish_model.ckpt\n"
     ]
    },
    {
     "name": "stderr",
     "output_type": "stream",
     "text": [
      "\r",
      " 27%|█████████████████████▌                                                           | 60/225 [02:15<06:11,  2.25s/it]"
     ]
    },
    {
     "name": "stdout",
     "output_type": "stream",
     "text": [
      "INFO:tensorflow:Restoring parameters from vggish_model.ckpt\n"
     ]
    },
    {
     "name": "stderr",
     "output_type": "stream",
     "text": [
      "\r",
      " 27%|█████████████████████▉                                                           | 61/225 [02:17<05:56,  2.17s/it]"
     ]
    },
    {
     "name": "stdout",
     "output_type": "stream",
     "text": [
      "INFO:tensorflow:Restoring parameters from vggish_model.ckpt\n"
     ]
    },
    {
     "name": "stderr",
     "output_type": "stream",
     "text": [
      "\r",
      " 28%|██████████████████████▎                                                          | 62/225 [02:20<05:52,  2.16s/it]"
     ]
    },
    {
     "name": "stdout",
     "output_type": "stream",
     "text": [
      "INFO:tensorflow:Restoring parameters from vggish_model.ckpt\n"
     ]
    },
    {
     "name": "stderr",
     "output_type": "stream",
     "text": [
      "\r",
      " 28%|██████████████████████▋                                                          | 63/225 [02:22<06:02,  2.24s/it]"
     ]
    },
    {
     "name": "stdout",
     "output_type": "stream",
     "text": [
      "INFO:tensorflow:Restoring parameters from vggish_model.ckpt\n"
     ]
    },
    {
     "name": "stderr",
     "output_type": "stream",
     "text": [
      "\r",
      " 28%|███████████████████████                                                          | 64/225 [02:24<06:03,  2.26s/it]"
     ]
    },
    {
     "name": "stdout",
     "output_type": "stream",
     "text": [
      "INFO:tensorflow:Restoring parameters from vggish_model.ckpt\n"
     ]
    },
    {
     "name": "stderr",
     "output_type": "stream",
     "text": [
      "\r",
      " 29%|███████████████████████▍                                                         | 65/225 [02:27<06:03,  2.27s/it]"
     ]
    },
    {
     "name": "stdout",
     "output_type": "stream",
     "text": [
      "INFO:tensorflow:Restoring parameters from vggish_model.ckpt\n"
     ]
    },
    {
     "name": "stderr",
     "output_type": "stream",
     "text": [
      "\r",
      " 29%|███████████████████████▊                                                         | 66/225 [02:29<05:54,  2.23s/it]"
     ]
    },
    {
     "name": "stdout",
     "output_type": "stream",
     "text": [
      "INFO:tensorflow:Restoring parameters from vggish_model.ckpt\n"
     ]
    },
    {
     "name": "stderr",
     "output_type": "stream",
     "text": [
      "\r",
      " 30%|████████████████████████                                                         | 67/225 [02:31<05:56,  2.26s/it]"
     ]
    },
    {
     "name": "stdout",
     "output_type": "stream",
     "text": [
      "INFO:tensorflow:Restoring parameters from vggish_model.ckpt\n"
     ]
    },
    {
     "name": "stderr",
     "output_type": "stream",
     "text": [
      "\r",
      " 30%|████████████████████████▍                                                        | 68/225 [02:33<05:52,  2.25s/it]"
     ]
    },
    {
     "name": "stdout",
     "output_type": "stream",
     "text": [
      "INFO:tensorflow:Restoring parameters from vggish_model.ckpt\n"
     ]
    },
    {
     "name": "stderr",
     "output_type": "stream",
     "text": [
      "\r",
      " 31%|████████████████████████▊                                                        | 69/225 [02:36<05:54,  2.27s/it]"
     ]
    },
    {
     "name": "stdout",
     "output_type": "stream",
     "text": [
      "INFO:tensorflow:Restoring parameters from vggish_model.ckpt\n"
     ]
    },
    {
     "name": "stderr",
     "output_type": "stream",
     "text": [
      "\r",
      " 31%|█████████████████████████▏                                                       | 70/225 [02:38<05:43,  2.22s/it]"
     ]
    },
    {
     "name": "stdout",
     "output_type": "stream",
     "text": [
      "INFO:tensorflow:Restoring parameters from vggish_model.ckpt\n"
     ]
    },
    {
     "name": "stderr",
     "output_type": "stream",
     "text": [
      "\r",
      " 32%|█████████████████████████▌                                                       | 71/225 [02:40<05:49,  2.27s/it]"
     ]
    },
    {
     "name": "stdout",
     "output_type": "stream",
     "text": [
      "INFO:tensorflow:Restoring parameters from vggish_model.ckpt\n"
     ]
    },
    {
     "name": "stderr",
     "output_type": "stream",
     "text": [
      "\r",
      " 32%|█████████████████████████▉                                                       | 72/225 [02:42<05:42,  2.24s/it]"
     ]
    },
    {
     "name": "stdout",
     "output_type": "stream",
     "text": [
      "INFO:tensorflow:Restoring parameters from vggish_model.ckpt\n"
     ]
    },
    {
     "name": "stderr",
     "output_type": "stream",
     "text": [
      "\r",
      " 32%|██████████████████████████▎                                                      | 73/225 [02:45<05:47,  2.28s/it]"
     ]
    },
    {
     "name": "stdout",
     "output_type": "stream",
     "text": [
      "INFO:tensorflow:Restoring parameters from vggish_model.ckpt\n"
     ]
    },
    {
     "name": "stderr",
     "output_type": "stream",
     "text": [
      "\r",
      " 33%|██████████████████████████▋                                                      | 74/225 [02:47<06:03,  2.41s/it]"
     ]
    },
    {
     "name": "stdout",
     "output_type": "stream",
     "text": [
      "INFO:tensorflow:Restoring parameters from vggish_model.ckpt\n"
     ]
    },
    {
     "name": "stderr",
     "output_type": "stream",
     "text": [
      "\r",
      " 33%|███████████████████████████                                                      | 75/225 [02:49<05:46,  2.31s/it]"
     ]
    },
    {
     "name": "stdout",
     "output_type": "stream",
     "text": [
      "INFO:tensorflow:Restoring parameters from vggish_model.ckpt\n"
     ]
    },
    {
     "name": "stderr",
     "output_type": "stream",
     "text": [
      "\r",
      " 34%|███████████████████████████▎                                                     | 76/225 [02:51<05:30,  2.22s/it]"
     ]
    },
    {
     "name": "stdout",
     "output_type": "stream",
     "text": [
      "INFO:tensorflow:Restoring parameters from vggish_model.ckpt\n"
     ]
    },
    {
     "name": "stderr",
     "output_type": "stream",
     "text": [
      "\r",
      " 34%|███████████████████████████▋                                                     | 77/225 [02:54<05:28,  2.22s/it]"
     ]
    },
    {
     "name": "stdout",
     "output_type": "stream",
     "text": [
      "INFO:tensorflow:Restoring parameters from vggish_model.ckpt\n"
     ]
    },
    {
     "name": "stderr",
     "output_type": "stream",
     "text": [
      "\r",
      " 35%|████████████████████████████                                                     | 78/225 [02:56<05:27,  2.23s/it]"
     ]
    },
    {
     "name": "stdout",
     "output_type": "stream",
     "text": [
      "INFO:tensorflow:Restoring parameters from vggish_model.ckpt\n"
     ]
    },
    {
     "name": "stderr",
     "output_type": "stream",
     "text": [
      "\r",
      " 35%|████████████████████████████▍                                                    | 79/225 [02:58<05:23,  2.21s/it]"
     ]
    },
    {
     "name": "stdout",
     "output_type": "stream",
     "text": [
      "INFO:tensorflow:Restoring parameters from vggish_model.ckpt\n"
     ]
    },
    {
     "name": "stderr",
     "output_type": "stream",
     "text": [
      "\r",
      " 36%|████████████████████████████▊                                                    | 80/225 [03:00<05:23,  2.23s/it]"
     ]
    },
    {
     "name": "stdout",
     "output_type": "stream",
     "text": [
      "INFO:tensorflow:Restoring parameters from vggish_model.ckpt\n"
     ]
    },
    {
     "name": "stderr",
     "output_type": "stream",
     "text": [
      "\r",
      " 36%|█████████████████████████████▏                                                   | 81/225 [03:03<05:25,  2.26s/it]"
     ]
    },
    {
     "name": "stdout",
     "output_type": "stream",
     "text": [
      "INFO:tensorflow:Restoring parameters from vggish_model.ckpt\n"
     ]
    },
    {
     "name": "stderr",
     "output_type": "stream",
     "text": [
      "\r",
      " 36%|█████████████████████████████▌                                                   | 82/225 [03:05<05:35,  2.34s/it]"
     ]
    },
    {
     "name": "stdout",
     "output_type": "stream",
     "text": [
      "INFO:tensorflow:Restoring parameters from vggish_model.ckpt\n"
     ]
    },
    {
     "name": "stderr",
     "output_type": "stream",
     "text": [
      "\r",
      " 37%|█████████████████████████████▉                                                   | 83/225 [03:07<05:17,  2.24s/it]"
     ]
    },
    {
     "name": "stdout",
     "output_type": "stream",
     "text": [
      "INFO:tensorflow:Restoring parameters from vggish_model.ckpt\n"
     ]
    },
    {
     "name": "stderr",
     "output_type": "stream",
     "text": [
      "\r",
      " 37%|██████████████████████████████▏                                                  | 84/225 [03:09<05:13,  2.22s/it]"
     ]
    },
    {
     "name": "stdout",
     "output_type": "stream",
     "text": [
      "INFO:tensorflow:Restoring parameters from vggish_model.ckpt\n"
     ]
    },
    {
     "name": "stderr",
     "output_type": "stream",
     "text": [
      "\r",
      " 38%|██████████████████████████████▌                                                  | 85/225 [03:12<05:13,  2.24s/it]"
     ]
    },
    {
     "name": "stdout",
     "output_type": "stream",
     "text": [
      "INFO:tensorflow:Restoring parameters from vggish_model.ckpt\n"
     ]
    },
    {
     "name": "stderr",
     "output_type": "stream",
     "text": [
      "\r",
      " 38%|██████████████████████████████▉                                                  | 86/225 [03:14<05:21,  2.32s/it]"
     ]
    },
    {
     "name": "stdout",
     "output_type": "stream",
     "text": [
      "INFO:tensorflow:Restoring parameters from vggish_model.ckpt\n"
     ]
    },
    {
     "name": "stderr",
     "output_type": "stream",
     "text": [
      "\r",
      " 39%|███████████████████████████████▎                                                 | 87/225 [03:17<05:23,  2.35s/it]"
     ]
    },
    {
     "name": "stdout",
     "output_type": "stream",
     "text": [
      "INFO:tensorflow:Restoring parameters from vggish_model.ckpt\n"
     ]
    },
    {
     "name": "stderr",
     "output_type": "stream",
     "text": [
      "\r",
      " 39%|███████████████████████████████▋                                                 | 88/225 [03:19<05:17,  2.31s/it]"
     ]
    },
    {
     "name": "stdout",
     "output_type": "stream",
     "text": [
      "INFO:tensorflow:Restoring parameters from vggish_model.ckpt\n"
     ]
    },
    {
     "name": "stderr",
     "output_type": "stream",
     "text": [
      "\r",
      " 40%|████████████████████████████████                                                 | 89/225 [03:21<05:06,  2.25s/it]"
     ]
    },
    {
     "name": "stdout",
     "output_type": "stream",
     "text": [
      "INFO:tensorflow:Restoring parameters from vggish_model.ckpt\n"
     ]
    },
    {
     "name": "stderr",
     "output_type": "stream",
     "text": [
      "\r",
      " 40%|████████████████████████████████▍                                                | 90/225 [03:23<05:01,  2.24s/it]"
     ]
    },
    {
     "name": "stdout",
     "output_type": "stream",
     "text": [
      "INFO:tensorflow:Restoring parameters from vggish_model.ckpt\n"
     ]
    },
    {
     "name": "stderr",
     "output_type": "stream",
     "text": [
      "\r",
      " 40%|████████████████████████████████▊                                                | 91/225 [03:26<05:07,  2.29s/it]"
     ]
    },
    {
     "name": "stdout",
     "output_type": "stream",
     "text": [
      "INFO:tensorflow:Restoring parameters from vggish_model.ckpt\n"
     ]
    },
    {
     "name": "stderr",
     "output_type": "stream",
     "text": [
      "\r",
      " 41%|█████████████████████████████████                                                | 92/225 [03:28<05:09,  2.33s/it]"
     ]
    },
    {
     "name": "stdout",
     "output_type": "stream",
     "text": [
      "INFO:tensorflow:Restoring parameters from vggish_model.ckpt\n"
     ]
    },
    {
     "name": "stderr",
     "output_type": "stream",
     "text": [
      "\r",
      " 41%|█████████████████████████████████▍                                               | 93/225 [03:30<04:57,  2.25s/it]"
     ]
    },
    {
     "name": "stdout",
     "output_type": "stream",
     "text": [
      "INFO:tensorflow:Restoring parameters from vggish_model.ckpt\n"
     ]
    },
    {
     "name": "stderr",
     "output_type": "stream",
     "text": [
      "\r",
      " 42%|█████████████████████████████████▊                                               | 94/225 [03:33<05:06,  2.34s/it]"
     ]
    },
    {
     "name": "stdout",
     "output_type": "stream",
     "text": [
      "INFO:tensorflow:Restoring parameters from vggish_model.ckpt\n"
     ]
    },
    {
     "name": "stderr",
     "output_type": "stream",
     "text": [
      "\r",
      " 42%|██████████████████████████████████▏                                              | 95/225 [03:35<05:02,  2.33s/it]"
     ]
    },
    {
     "name": "stdout",
     "output_type": "stream",
     "text": [
      "INFO:tensorflow:Restoring parameters from vggish_model.ckpt\n"
     ]
    },
    {
     "name": "stderr",
     "output_type": "stream",
     "text": [
      "\r",
      " 43%|██████████████████████████████████▌                                              | 96/225 [03:37<04:51,  2.26s/it]"
     ]
    },
    {
     "name": "stdout",
     "output_type": "stream",
     "text": [
      "INFO:tensorflow:Restoring parameters from vggish_model.ckpt\n"
     ]
    },
    {
     "name": "stderr",
     "output_type": "stream",
     "text": [
      "\r",
      " 43%|██████████████████████████████████▉                                              | 97/225 [03:39<04:44,  2.23s/it]"
     ]
    },
    {
     "name": "stdout",
     "output_type": "stream",
     "text": [
      "INFO:tensorflow:Restoring parameters from vggish_model.ckpt\n"
     ]
    },
    {
     "name": "stderr",
     "output_type": "stream",
     "text": [
      "\r",
      " 44%|███████████████████████████████████▎                                             | 98/225 [03:41<04:45,  2.25s/it]"
     ]
    },
    {
     "name": "stdout",
     "output_type": "stream",
     "text": [
      "INFO:tensorflow:Restoring parameters from vggish_model.ckpt\n"
     ]
    },
    {
     "name": "stderr",
     "output_type": "stream",
     "text": [
      "\r",
      " 44%|███████████████████████████████████▋                                             | 99/225 [03:44<04:49,  2.30s/it]"
     ]
    },
    {
     "name": "stdout",
     "output_type": "stream",
     "text": [
      "INFO:tensorflow:Restoring parameters from vggish_model.ckpt\n"
     ]
    },
    {
     "name": "stderr",
     "output_type": "stream",
     "text": [
      "\r",
      " 44%|███████████████████████████████████▌                                            | 100/225 [03:46<04:39,  2.24s/it]"
     ]
    },
    {
     "name": "stdout",
     "output_type": "stream",
     "text": [
      "INFO:tensorflow:Restoring parameters from vggish_model.ckpt\n"
     ]
    },
    {
     "name": "stderr",
     "output_type": "stream",
     "text": [
      "\r",
      " 45%|███████████████████████████████████▉                                            | 101/225 [03:48<04:37,  2.24s/it]"
     ]
    },
    {
     "name": "stdout",
     "output_type": "stream",
     "text": [
      "INFO:tensorflow:Restoring parameters from vggish_model.ckpt\n"
     ]
    },
    {
     "name": "stderr",
     "output_type": "stream",
     "text": [
      "\r",
      " 45%|████████████████████████████████████▎                                           | 102/225 [03:50<04:32,  2.21s/it]"
     ]
    },
    {
     "name": "stdout",
     "output_type": "stream",
     "text": [
      "INFO:tensorflow:Restoring parameters from vggish_model.ckpt\n"
     ]
    },
    {
     "name": "stderr",
     "output_type": "stream",
     "text": [
      "\r",
      " 46%|████████████████████████████████████▌                                           | 103/225 [03:53<04:33,  2.24s/it]"
     ]
    },
    {
     "name": "stdout",
     "output_type": "stream",
     "text": [
      "INFO:tensorflow:Restoring parameters from vggish_model.ckpt\n"
     ]
    },
    {
     "name": "stderr",
     "output_type": "stream",
     "text": [
      "\r",
      " 46%|████████████████████████████████████▉                                           | 104/225 [03:55<04:25,  2.20s/it]"
     ]
    },
    {
     "name": "stdout",
     "output_type": "stream",
     "text": [
      "INFO:tensorflow:Restoring parameters from vggish_model.ckpt\n"
     ]
    },
    {
     "name": "stderr",
     "output_type": "stream",
     "text": [
      "\r",
      " 47%|█████████████████████████████████████▎                                          | 105/225 [03:57<04:22,  2.19s/it]"
     ]
    },
    {
     "name": "stdout",
     "output_type": "stream",
     "text": [
      "INFO:tensorflow:Restoring parameters from vggish_model.ckpt\n"
     ]
    },
    {
     "name": "stderr",
     "output_type": "stream",
     "text": [
      "\r",
      " 47%|█████████████████████████████████████▋                                          | 106/225 [03:59<04:27,  2.25s/it]"
     ]
    },
    {
     "name": "stdout",
     "output_type": "stream",
     "text": [
      "INFO:tensorflow:Restoring parameters from vggish_model.ckpt\n"
     ]
    },
    {
     "name": "stderr",
     "output_type": "stream",
     "text": [
      "\r",
      " 48%|██████████████████████████████████████                                          | 107/225 [04:01<04:20,  2.21s/it]"
     ]
    },
    {
     "name": "stdout",
     "output_type": "stream",
     "text": [
      "INFO:tensorflow:Restoring parameters from vggish_model.ckpt\n"
     ]
    },
    {
     "name": "stderr",
     "output_type": "stream",
     "text": [
      "\r",
      " 48%|██████████████████████████████████████▍                                         | 108/225 [04:04<04:20,  2.22s/it]"
     ]
    },
    {
     "name": "stdout",
     "output_type": "stream",
     "text": [
      "INFO:tensorflow:Restoring parameters from vggish_model.ckpt\n"
     ]
    },
    {
     "name": "stderr",
     "output_type": "stream",
     "text": [
      "\r",
      " 48%|██████████████████████████████████████▊                                         | 109/225 [04:06<04:17,  2.22s/it]"
     ]
    },
    {
     "name": "stdout",
     "output_type": "stream",
     "text": [
      "INFO:tensorflow:Restoring parameters from vggish_model.ckpt\n"
     ]
    },
    {
     "name": "stderr",
     "output_type": "stream",
     "text": [
      "\r",
      " 49%|███████████████████████████████████████                                         | 110/225 [04:08<04:14,  2.21s/it]"
     ]
    },
    {
     "name": "stdout",
     "output_type": "stream",
     "text": [
      "INFO:tensorflow:Restoring parameters from vggish_model.ckpt\n"
     ]
    },
    {
     "name": "stderr",
     "output_type": "stream",
     "text": [
      "\r",
      " 49%|███████████████████████████████████████▍                                        | 111/225 [04:10<04:16,  2.25s/it]"
     ]
    },
    {
     "name": "stdout",
     "output_type": "stream",
     "text": [
      "INFO:tensorflow:Restoring parameters from vggish_model.ckpt\n"
     ]
    },
    {
     "name": "stderr",
     "output_type": "stream",
     "text": [
      "\r",
      " 50%|███████████████████████████████████████▊                                        | 112/225 [04:13<04:23,  2.33s/it]"
     ]
    },
    {
     "name": "stdout",
     "output_type": "stream",
     "text": [
      "INFO:tensorflow:Restoring parameters from vggish_model.ckpt\n"
     ]
    },
    {
     "name": "stderr",
     "output_type": "stream",
     "text": [
      "\r",
      " 50%|████████████████████████████████████████▏                                       | 113/225 [04:15<04:18,  2.31s/it]"
     ]
    },
    {
     "name": "stdout",
     "output_type": "stream",
     "text": [
      "INFO:tensorflow:Restoring parameters from vggish_model.ckpt\n"
     ]
    },
    {
     "name": "stderr",
     "output_type": "stream",
     "text": [
      "\r",
      " 51%|████████████████████████████████████████▌                                       | 114/225 [04:18<04:16,  2.31s/it]"
     ]
    },
    {
     "name": "stdout",
     "output_type": "stream",
     "text": [
      "INFO:tensorflow:Restoring parameters from vggish_model.ckpt\n"
     ]
    },
    {
     "name": "stderr",
     "output_type": "stream",
     "text": [
      "\r",
      " 51%|████████████████████████████████████████▉                                       | 115/225 [04:20<04:08,  2.26s/it]"
     ]
    },
    {
     "name": "stdout",
     "output_type": "stream",
     "text": [
      "INFO:tensorflow:Restoring parameters from vggish_model.ckpt\n"
     ]
    },
    {
     "name": "stderr",
     "output_type": "stream",
     "text": [
      "\r",
      " 52%|█████████████████████████████████████████▏                                      | 116/225 [04:22<04:10,  2.29s/it]"
     ]
    },
    {
     "name": "stdout",
     "output_type": "stream",
     "text": [
      "INFO:tensorflow:Restoring parameters from vggish_model.ckpt\n"
     ]
    },
    {
     "name": "stderr",
     "output_type": "stream",
     "text": [
      "\r",
      " 52%|█████████████████████████████████████████▌                                      | 117/225 [04:24<04:00,  2.23s/it]"
     ]
    },
    {
     "name": "stdout",
     "output_type": "stream",
     "text": [
      "INFO:tensorflow:Restoring parameters from vggish_model.ckpt\n"
     ]
    },
    {
     "name": "stderr",
     "output_type": "stream",
     "text": [
      "\r",
      " 52%|█████████████████████████████████████████▉                                      | 118/225 [04:26<03:56,  2.21s/it]"
     ]
    },
    {
     "name": "stdout",
     "output_type": "stream",
     "text": [
      "INFO:tensorflow:Restoring parameters from vggish_model.ckpt\n"
     ]
    },
    {
     "name": "stderr",
     "output_type": "stream",
     "text": [
      "\r",
      " 53%|██████████████████████████████████████████▎                                     | 119/225 [04:29<04:21,  2.47s/it]"
     ]
    },
    {
     "name": "stdout",
     "output_type": "stream",
     "text": [
      "INFO:tensorflow:Restoring parameters from vggish_model.ckpt\n"
     ]
    },
    {
     "name": "stderr",
     "output_type": "stream",
     "text": [
      "\r",
      " 53%|██████████████████████████████████████████▋                                     | 120/225 [04:32<04:12,  2.40s/it]"
     ]
    },
    {
     "name": "stdout",
     "output_type": "stream",
     "text": [
      "INFO:tensorflow:Restoring parameters from vggish_model.ckpt\n"
     ]
    },
    {
     "name": "stderr",
     "output_type": "stream",
     "text": [
      "\r",
      " 54%|███████████████████████████████████████████                                     | 121/225 [04:34<04:14,  2.45s/it]"
     ]
    },
    {
     "name": "stdout",
     "output_type": "stream",
     "text": [
      "INFO:tensorflow:Restoring parameters from vggish_model.ckpt\n"
     ]
    },
    {
     "name": "stderr",
     "output_type": "stream",
     "text": [
      "\r",
      " 54%|███████████████████████████████████████████▍                                    | 122/225 [04:36<03:58,  2.32s/it]"
     ]
    },
    {
     "name": "stdout",
     "output_type": "stream",
     "text": [
      "INFO:tensorflow:Restoring parameters from vggish_model.ckpt\n"
     ]
    },
    {
     "name": "stderr",
     "output_type": "stream",
     "text": [
      "\r",
      " 55%|███████████████████████████████████████████▋                                    | 123/225 [04:39<03:57,  2.33s/it]"
     ]
    },
    {
     "name": "stdout",
     "output_type": "stream",
     "text": [
      "INFO:tensorflow:Restoring parameters from vggish_model.ckpt\n"
     ]
    },
    {
     "name": "stderr",
     "output_type": "stream",
     "text": [
      "\r",
      " 55%|████████████████████████████████████████████                                    | 124/225 [04:41<04:08,  2.46s/it]"
     ]
    },
    {
     "name": "stdout",
     "output_type": "stream",
     "text": [
      "INFO:tensorflow:Restoring parameters from vggish_model.ckpt\n"
     ]
    },
    {
     "name": "stderr",
     "output_type": "stream",
     "text": [
      "\r",
      " 56%|████████████████████████████████████████████▍                                   | 125/225 [04:44<04:09,  2.49s/it]"
     ]
    },
    {
     "name": "stdout",
     "output_type": "stream",
     "text": [
      "INFO:tensorflow:Restoring parameters from vggish_model.ckpt\n"
     ]
    },
    {
     "name": "stderr",
     "output_type": "stream",
     "text": [
      "\r",
      " 56%|████████████████████████████████████████████▊                                   | 126/225 [04:46<03:46,  2.28s/it]"
     ]
    },
    {
     "name": "stdout",
     "output_type": "stream",
     "text": [
      "INFO:tensorflow:Restoring parameters from vggish_model.ckpt\n"
     ]
    },
    {
     "name": "stderr",
     "output_type": "stream",
     "text": [
      "\r",
      " 56%|█████████████████████████████████████████████▏                                  | 127/225 [04:48<03:30,  2.15s/it]"
     ]
    },
    {
     "name": "stdout",
     "output_type": "stream",
     "text": [
      "INFO:tensorflow:Restoring parameters from vggish_model.ckpt\n"
     ]
    },
    {
     "name": "stderr",
     "output_type": "stream",
     "text": [
      "\r",
      " 57%|█████████████████████████████████████████████▌                                  | 128/225 [04:49<03:15,  2.02s/it]"
     ]
    },
    {
     "name": "stdout",
     "output_type": "stream",
     "text": [
      "INFO:tensorflow:Restoring parameters from vggish_model.ckpt\n"
     ]
    },
    {
     "name": "stderr",
     "output_type": "stream",
     "text": [
      "\r",
      " 57%|█████████████████████████████████████████████▊                                  | 129/225 [04:51<03:14,  2.03s/it]"
     ]
    },
    {
     "name": "stdout",
     "output_type": "stream",
     "text": [
      "INFO:tensorflow:Restoring parameters from vggish_model.ckpt\n"
     ]
    },
    {
     "name": "stderr",
     "output_type": "stream",
     "text": [
      "\r",
      " 58%|██████████████████████████████████████████████▏                                 | 130/225 [04:53<03:08,  1.98s/it]"
     ]
    },
    {
     "name": "stdout",
     "output_type": "stream",
     "text": [
      "INFO:tensorflow:Restoring parameters from vggish_model.ckpt\n"
     ]
    },
    {
     "name": "stderr",
     "output_type": "stream",
     "text": [
      "\r",
      " 58%|██████████████████████████████████████████████▌                                 | 131/225 [04:55<03:11,  2.03s/it]"
     ]
    },
    {
     "name": "stdout",
     "output_type": "stream",
     "text": [
      "INFO:tensorflow:Restoring parameters from vggish_model.ckpt\n"
     ]
    },
    {
     "name": "stderr",
     "output_type": "stream",
     "text": [
      "\r",
      " 59%|██████████████████████████████████████████████▉                                 | 132/225 [04:57<03:08,  2.02s/it]"
     ]
    },
    {
     "name": "stdout",
     "output_type": "stream",
     "text": [
      "INFO:tensorflow:Restoring parameters from vggish_model.ckpt\n"
     ]
    },
    {
     "name": "stderr",
     "output_type": "stream",
     "text": [
      "\r",
      " 59%|███████████████████████████████████████████████▎                                | 133/225 [04:59<02:54,  1.90s/it]"
     ]
    },
    {
     "name": "stdout",
     "output_type": "stream",
     "text": [
      "INFO:tensorflow:Restoring parameters from vggish_model.ckpt\n"
     ]
    },
    {
     "name": "stderr",
     "output_type": "stream",
     "text": [
      "\r",
      " 60%|███████████████████████████████████████████████▋                                | 134/225 [05:01<02:45,  1.82s/it]"
     ]
    },
    {
     "name": "stdout",
     "output_type": "stream",
     "text": [
      "INFO:tensorflow:Restoring parameters from vggish_model.ckpt\n"
     ]
    },
    {
     "name": "stderr",
     "output_type": "stream",
     "text": [
      "\r",
      " 60%|████████████████████████████████████████████████                                | 135/225 [05:02<02:41,  1.79s/it]"
     ]
    },
    {
     "name": "stdout",
     "output_type": "stream",
     "text": [
      "INFO:tensorflow:Restoring parameters from vggish_model.ckpt\n"
     ]
    },
    {
     "name": "stderr",
     "output_type": "stream",
     "text": [
      "\r",
      " 60%|████████████████████████████████████████████████▎                               | 136/225 [05:04<02:46,  1.87s/it]"
     ]
    },
    {
     "name": "stdout",
     "output_type": "stream",
     "text": [
      "INFO:tensorflow:Restoring parameters from vggish_model.ckpt\n"
     ]
    },
    {
     "name": "stderr",
     "output_type": "stream",
     "text": [
      "\r",
      " 61%|████████████████████████████████████████████████▋                               | 137/225 [05:06<02:39,  1.81s/it]"
     ]
    },
    {
     "name": "stdout",
     "output_type": "stream",
     "text": [
      "INFO:tensorflow:Restoring parameters from vggish_model.ckpt\n"
     ]
    },
    {
     "name": "stderr",
     "output_type": "stream",
     "text": [
      "\r",
      " 61%|█████████████████████████████████████████████████                               | 138/225 [05:08<02:38,  1.83s/it]"
     ]
    },
    {
     "name": "stdout",
     "output_type": "stream",
     "text": [
      "INFO:tensorflow:Restoring parameters from vggish_model.ckpt\n"
     ]
    },
    {
     "name": "stderr",
     "output_type": "stream",
     "text": [
      "\r",
      " 62%|█████████████████████████████████████████████████▍                              | 139/225 [05:10<02:32,  1.77s/it]"
     ]
    },
    {
     "name": "stdout",
     "output_type": "stream",
     "text": [
      "INFO:tensorflow:Restoring parameters from vggish_model.ckpt\n"
     ]
    },
    {
     "name": "stderr",
     "output_type": "stream",
     "text": [
      "\r",
      " 62%|█████████████████████████████████████████████████▊                              | 140/225 [05:11<02:27,  1.74s/it]"
     ]
    },
    {
     "name": "stdout",
     "output_type": "stream",
     "text": [
      "INFO:tensorflow:Restoring parameters from vggish_model.ckpt\n"
     ]
    },
    {
     "name": "stderr",
     "output_type": "stream",
     "text": [
      "\r",
      " 63%|██████████████████████████████████████████████████▏                             | 141/225 [05:13<02:26,  1.74s/it]"
     ]
    },
    {
     "name": "stdout",
     "output_type": "stream",
     "text": [
      "INFO:tensorflow:Restoring parameters from vggish_model.ckpt\n"
     ]
    },
    {
     "name": "stderr",
     "output_type": "stream",
     "text": [
      "\r",
      " 63%|██████████████████████████████████████████████████▍                             | 142/225 [05:15<02:21,  1.71s/it]"
     ]
    },
    {
     "name": "stdout",
     "output_type": "stream",
     "text": [
      "INFO:tensorflow:Restoring parameters from vggish_model.ckpt\n"
     ]
    },
    {
     "name": "stderr",
     "output_type": "stream",
     "text": [
      "\r",
      " 64%|██████████████████████████████████████████████████▊                             | 143/225 [05:17<02:26,  1.79s/it]"
     ]
    },
    {
     "name": "stdout",
     "output_type": "stream",
     "text": [
      "INFO:tensorflow:Restoring parameters from vggish_model.ckpt\n"
     ]
    },
    {
     "name": "stderr",
     "output_type": "stream",
     "text": [
      "\r",
      " 64%|███████████████████████████████████████████████████▏                            | 144/225 [05:19<02:34,  1.91s/it]"
     ]
    },
    {
     "name": "stdout",
     "output_type": "stream",
     "text": [
      "INFO:tensorflow:Restoring parameters from vggish_model.ckpt\n"
     ]
    },
    {
     "name": "stderr",
     "output_type": "stream",
     "text": [
      "\r",
      " 64%|███████████████████████████████████████████████████▌                            | 145/225 [05:20<02:28,  1.85s/it]"
     ]
    },
    {
     "name": "stdout",
     "output_type": "stream",
     "text": [
      "INFO:tensorflow:Restoring parameters from vggish_model.ckpt\n"
     ]
    },
    {
     "name": "stderr",
     "output_type": "stream",
     "text": [
      "\r",
      " 65%|███████████████████████████████████████████████████▉                            | 146/225 [05:22<02:19,  1.77s/it]"
     ]
    },
    {
     "name": "stdout",
     "output_type": "stream",
     "text": [
      "INFO:tensorflow:Restoring parameters from vggish_model.ckpt\n"
     ]
    },
    {
     "name": "stderr",
     "output_type": "stream",
     "text": [
      "\r",
      " 65%|████████████████████████████████████████████████████▎                           | 147/225 [05:24<02:15,  1.74s/it]"
     ]
    },
    {
     "name": "stdout",
     "output_type": "stream",
     "text": [
      "INFO:tensorflow:Restoring parameters from vggish_model.ckpt\n"
     ]
    },
    {
     "name": "stderr",
     "output_type": "stream",
     "text": [
      "\r",
      " 66%|████████████████████████████████████████████████████▌                           | 148/225 [05:25<02:15,  1.75s/it]"
     ]
    },
    {
     "name": "stdout",
     "output_type": "stream",
     "text": [
      "INFO:tensorflow:Restoring parameters from vggish_model.ckpt\n"
     ]
    },
    {
     "name": "stderr",
     "output_type": "stream",
     "text": [
      "\r",
      " 66%|████████████████████████████████████████████████████▉                           | 149/225 [05:28<02:31,  1.99s/it]"
     ]
    },
    {
     "name": "stdout",
     "output_type": "stream",
     "text": [
      "INFO:tensorflow:Restoring parameters from vggish_model.ckpt\n"
     ]
    },
    {
     "name": "stderr",
     "output_type": "stream",
     "text": [
      "\r",
      " 67%|█████████████████████████████████████████████████████▎                          | 150/225 [05:30<02:27,  1.97s/it]"
     ]
    },
    {
     "name": "stdout",
     "output_type": "stream",
     "text": [
      "INFO:tensorflow:Restoring parameters from vggish_model.ckpt\n"
     ]
    },
    {
     "name": "stderr",
     "output_type": "stream",
     "text": [
      "\r",
      " 67%|█████████████████████████████████████████████████████▋                          | 151/225 [05:32<02:22,  1.93s/it]"
     ]
    },
    {
     "name": "stdout",
     "output_type": "stream",
     "text": [
      "INFO:tensorflow:Restoring parameters from vggish_model.ckpt\n"
     ]
    },
    {
     "name": "stderr",
     "output_type": "stream",
     "text": [
      "\r",
      " 68%|██████████████████████████████████████████████████████                          | 152/225 [05:34<02:16,  1.87s/it]"
     ]
    },
    {
     "name": "stdout",
     "output_type": "stream",
     "text": [
      "INFO:tensorflow:Restoring parameters from vggish_model.ckpt\n"
     ]
    },
    {
     "name": "stderr",
     "output_type": "stream",
     "text": [
      "\r",
      " 68%|██████████████████████████████████████████████████████▍                         | 153/225 [05:35<02:09,  1.80s/it]"
     ]
    },
    {
     "name": "stdout",
     "output_type": "stream",
     "text": [
      "INFO:tensorflow:Restoring parameters from vggish_model.ckpt\n"
     ]
    },
    {
     "name": "stderr",
     "output_type": "stream",
     "text": [
      "\r",
      " 68%|██████████████████████████████████████████████████████▊                         | 154/225 [05:37<02:15,  1.91s/it]"
     ]
    },
    {
     "name": "stdout",
     "output_type": "stream",
     "text": [
      "INFO:tensorflow:Restoring parameters from vggish_model.ckpt\n"
     ]
    },
    {
     "name": "stderr",
     "output_type": "stream",
     "text": [
      "\r",
      " 69%|███████████████████████████████████████████████████████                         | 155/225 [05:39<02:15,  1.93s/it]"
     ]
    },
    {
     "name": "stdout",
     "output_type": "stream",
     "text": [
      "INFO:tensorflow:Restoring parameters from vggish_model.ckpt\n"
     ]
    },
    {
     "name": "stderr",
     "output_type": "stream",
     "text": [
      "\r",
      " 69%|███████████████████████████████████████████████████████▍                        | 156/225 [05:41<02:10,  1.90s/it]"
     ]
    },
    {
     "name": "stdout",
     "output_type": "stream",
     "text": [
      "INFO:tensorflow:Restoring parameters from vggish_model.ckpt\n"
     ]
    },
    {
     "name": "stderr",
     "output_type": "stream",
     "text": [
      "\r",
      " 70%|███████████████████████████████████████████████████████▊                        | 157/225 [05:43<02:08,  1.89s/it]"
     ]
    },
    {
     "name": "stdout",
     "output_type": "stream",
     "text": [
      "INFO:tensorflow:Restoring parameters from vggish_model.ckpt\n"
     ]
    },
    {
     "name": "stderr",
     "output_type": "stream",
     "text": [
      "\r",
      " 70%|████████████████████████████████████████████████████████▏                       | 158/225 [05:45<02:01,  1.82s/it]"
     ]
    },
    {
     "name": "stdout",
     "output_type": "stream",
     "text": [
      "INFO:tensorflow:Restoring parameters from vggish_model.ckpt\n"
     ]
    },
    {
     "name": "stderr",
     "output_type": "stream",
     "text": [
      "\r",
      " 71%|████████████████████████████████████████████████████████▌                       | 159/225 [05:47<02:08,  1.94s/it]"
     ]
    },
    {
     "name": "stdout",
     "output_type": "stream",
     "text": [
      "INFO:tensorflow:Restoring parameters from vggish_model.ckpt\n"
     ]
    },
    {
     "name": "stderr",
     "output_type": "stream",
     "text": [
      "\r",
      " 71%|████████████████████████████████████████████████████████▉                       | 160/225 [05:49<02:04,  1.91s/it]"
     ]
    },
    {
     "name": "stdout",
     "output_type": "stream",
     "text": [
      "INFO:tensorflow:Restoring parameters from vggish_model.ckpt\n"
     ]
    },
    {
     "name": "stderr",
     "output_type": "stream",
     "text": [
      "\r",
      " 72%|█████████████████████████████████████████████████████████▏                      | 161/225 [05:50<01:56,  1.82s/it]"
     ]
    },
    {
     "name": "stdout",
     "output_type": "stream",
     "text": [
      "INFO:tensorflow:Restoring parameters from vggish_model.ckpt\n"
     ]
    },
    {
     "name": "stderr",
     "output_type": "stream",
     "text": [
      "\r",
      " 72%|█████████████████████████████████████████████████████████▌                      | 162/225 [05:52<01:55,  1.83s/it]"
     ]
    },
    {
     "name": "stdout",
     "output_type": "stream",
     "text": [
      "INFO:tensorflow:Restoring parameters from vggish_model.ckpt\n"
     ]
    },
    {
     "name": "stderr",
     "output_type": "stream",
     "text": [
      "\r",
      " 72%|█████████████████████████████████████████████████████████▉                      | 163/225 [05:54<01:54,  1.85s/it]"
     ]
    },
    {
     "name": "stdout",
     "output_type": "stream",
     "text": [
      "INFO:tensorflow:Restoring parameters from vggish_model.ckpt\n"
     ]
    },
    {
     "name": "stderr",
     "output_type": "stream",
     "text": [
      "\r",
      " 73%|██████████████████████████████████████████████████████████▎                     | 164/225 [05:56<01:50,  1.81s/it]"
     ]
    },
    {
     "name": "stdout",
     "output_type": "stream",
     "text": [
      "INFO:tensorflow:Restoring parameters from vggish_model.ckpt\n"
     ]
    },
    {
     "name": "stderr",
     "output_type": "stream",
     "text": [
      "\r",
      " 73%|██████████████████████████████████████████████████████████▋                     | 165/225 [05:58<01:47,  1.79s/it]"
     ]
    },
    {
     "name": "stdout",
     "output_type": "stream",
     "text": [
      "INFO:tensorflow:Restoring parameters from vggish_model.ckpt\n"
     ]
    },
    {
     "name": "stderr",
     "output_type": "stream",
     "text": [
      "\r",
      " 74%|███████████████████████████████████████████████████████████                     | 166/225 [05:59<01:48,  1.84s/it]"
     ]
    },
    {
     "name": "stdout",
     "output_type": "stream",
     "text": [
      "INFO:tensorflow:Restoring parameters from vggish_model.ckpt\n"
     ]
    },
    {
     "name": "stderr",
     "output_type": "stream",
     "text": [
      "\r",
      " 74%|███████████████████████████████████████████████████████████▍                    | 167/225 [06:01<01:45,  1.81s/it]"
     ]
    },
    {
     "name": "stdout",
     "output_type": "stream",
     "text": [
      "INFO:tensorflow:Restoring parameters from vggish_model.ckpt\n"
     ]
    },
    {
     "name": "stderr",
     "output_type": "stream",
     "text": [
      "\r",
      " 75%|███████████████████████████████████████████████████████████▋                    | 168/225 [06:03<01:43,  1.81s/it]"
     ]
    },
    {
     "name": "stdout",
     "output_type": "stream",
     "text": [
      "INFO:tensorflow:Restoring parameters from vggish_model.ckpt\n"
     ]
    },
    {
     "name": "stderr",
     "output_type": "stream",
     "text": [
      "\r",
      " 75%|████████████████████████████████████████████████████████████                    | 169/225 [06:05<01:39,  1.78s/it]"
     ]
    },
    {
     "name": "stdout",
     "output_type": "stream",
     "text": [
      "INFO:tensorflow:Restoring parameters from vggish_model.ckpt\n"
     ]
    },
    {
     "name": "stderr",
     "output_type": "stream",
     "text": [
      "\r",
      " 76%|████████████████████████████████████████████████████████████▍                   | 170/225 [06:06<01:34,  1.72s/it]"
     ]
    },
    {
     "name": "stdout",
     "output_type": "stream",
     "text": [
      "INFO:tensorflow:Restoring parameters from vggish_model.ckpt\n"
     ]
    },
    {
     "name": "stderr",
     "output_type": "stream",
     "text": [
      "\r",
      " 76%|████████████████████████████████████████████████████████████▊                   | 171/225 [06:08<01:35,  1.77s/it]"
     ]
    },
    {
     "name": "stdout",
     "output_type": "stream",
     "text": [
      "INFO:tensorflow:Restoring parameters from vggish_model.ckpt\n"
     ]
    },
    {
     "name": "stderr",
     "output_type": "stream",
     "text": [
      "\r",
      " 76%|█████████████████████████████████████████████████████████████▏                  | 172/225 [06:10<01:34,  1.78s/it]"
     ]
    },
    {
     "name": "stdout",
     "output_type": "stream",
     "text": [
      "INFO:tensorflow:Restoring parameters from vggish_model.ckpt\n"
     ]
    },
    {
     "name": "stderr",
     "output_type": "stream",
     "text": [
      "\r",
      " 77%|█████████████████████████████████████████████████████████████▌                  | 173/225 [06:12<01:33,  1.81s/it]"
     ]
    },
    {
     "name": "stdout",
     "output_type": "stream",
     "text": [
      "INFO:tensorflow:Restoring parameters from vggish_model.ckpt\n"
     ]
    },
    {
     "name": "stderr",
     "output_type": "stream",
     "text": [
      "\r",
      " 77%|█████████████████████████████████████████████████████████████▊                  | 174/225 [06:14<01:33,  1.84s/it]"
     ]
    },
    {
     "name": "stdout",
     "output_type": "stream",
     "text": [
      "INFO:tensorflow:Restoring parameters from vggish_model.ckpt\n"
     ]
    },
    {
     "name": "stderr",
     "output_type": "stream",
     "text": [
      "\r",
      " 78%|██████████████████████████████████████████████████████████████▏                 | 175/225 [06:16<01:32,  1.84s/it]"
     ]
    },
    {
     "name": "stdout",
     "output_type": "stream",
     "text": [
      "INFO:tensorflow:Restoring parameters from vggish_model.ckpt\n"
     ]
    },
    {
     "name": "stderr",
     "output_type": "stream",
     "text": [
      "\r",
      " 78%|██████████████████████████████████████████████████████████████▌                 | 176/225 [06:18<01:32,  1.89s/it]"
     ]
    },
    {
     "name": "stdout",
     "output_type": "stream",
     "text": [
      "INFO:tensorflow:Restoring parameters from vggish_model.ckpt\n"
     ]
    },
    {
     "name": "stderr",
     "output_type": "stream",
     "text": [
      "\r",
      " 79%|██████████████████████████████████████████████████████████████▉                 | 177/225 [06:20<01:35,  2.00s/it]"
     ]
    },
    {
     "name": "stdout",
     "output_type": "stream",
     "text": [
      "INFO:tensorflow:Restoring parameters from vggish_model.ckpt\n"
     ]
    },
    {
     "name": "stderr",
     "output_type": "stream",
     "text": [
      "\r",
      " 79%|███████████████████████████████████████████████████████████████▎                | 178/225 [06:22<01:30,  1.92s/it]"
     ]
    },
    {
     "name": "stdout",
     "output_type": "stream",
     "text": [
      "INFO:tensorflow:Restoring parameters from vggish_model.ckpt\n"
     ]
    },
    {
     "name": "stderr",
     "output_type": "stream",
     "text": [
      "\r",
      " 80%|███████████████████████████████████████████████████████████████▋                | 179/225 [06:23<01:24,  1.84s/it]"
     ]
    },
    {
     "name": "stdout",
     "output_type": "stream",
     "text": [
      "INFO:tensorflow:Restoring parameters from vggish_model.ckpt\n"
     ]
    },
    {
     "name": "stderr",
     "output_type": "stream",
     "text": [
      "\r",
      " 80%|████████████████████████████████████████████████████████████████                | 180/225 [06:26<01:33,  2.07s/it]"
     ]
    },
    {
     "name": "stdout",
     "output_type": "stream",
     "text": [
      "INFO:tensorflow:Restoring parameters from vggish_model.ckpt\n"
     ]
    },
    {
     "name": "stderr",
     "output_type": "stream",
     "text": [
      "\r",
      " 80%|████████████████████████████████████████████████████████████████▎               | 181/225 [06:34<02:45,  3.77s/it]"
     ]
    },
    {
     "name": "stdout",
     "output_type": "stream",
     "text": [
      "INFO:tensorflow:Restoring parameters from vggish_model.ckpt\n"
     ]
    },
    {
     "name": "stderr",
     "output_type": "stream",
     "text": [
      "\r",
      " 81%|████████████████████████████████████████████████████████████████▋               | 182/225 [06:35<02:14,  3.13s/it]"
     ]
    },
    {
     "name": "stdout",
     "output_type": "stream",
     "text": [
      "INFO:tensorflow:Restoring parameters from vggish_model.ckpt\n"
     ]
    },
    {
     "name": "stderr",
     "output_type": "stream",
     "text": [
      "\r",
      " 81%|█████████████████████████████████████████████████████████████████               | 183/225 [06:37<01:54,  2.73s/it]"
     ]
    },
    {
     "name": "stdout",
     "output_type": "stream",
     "text": [
      "INFO:tensorflow:Restoring parameters from vggish_model.ckpt\n"
     ]
    },
    {
     "name": "stderr",
     "output_type": "stream",
     "text": [
      "\r",
      " 82%|█████████████████████████████████████████████████████████████████▍              | 184/225 [06:39<01:37,  2.37s/it]"
     ]
    },
    {
     "name": "stdout",
     "output_type": "stream",
     "text": [
      "INFO:tensorflow:Restoring parameters from vggish_model.ckpt\n"
     ]
    },
    {
     "name": "stderr",
     "output_type": "stream",
     "text": [
      "\r",
      " 82%|█████████████████████████████████████████████████████████████████▊              | 185/225 [06:40<01:26,  2.16s/it]"
     ]
    },
    {
     "name": "stdout",
     "output_type": "stream",
     "text": [
      "INFO:tensorflow:Restoring parameters from vggish_model.ckpt\n"
     ]
    },
    {
     "name": "stderr",
     "output_type": "stream",
     "text": [
      "\r",
      " 83%|██████████████████████████████████████████████████████████████████▏             | 186/225 [06:42<01:18,  2.03s/it]"
     ]
    },
    {
     "name": "stdout",
     "output_type": "stream",
     "text": [
      "INFO:tensorflow:Restoring parameters from vggish_model.ckpt\n"
     ]
    },
    {
     "name": "stderr",
     "output_type": "stream",
     "text": [
      "\r",
      " 83%|██████████████████████████████████████████████████████████████████▍             | 187/225 [06:43<01:09,  1.84s/it]"
     ]
    },
    {
     "name": "stdout",
     "output_type": "stream",
     "text": [
      "INFO:tensorflow:Restoring parameters from vggish_model.ckpt\n"
     ]
    },
    {
     "name": "stderr",
     "output_type": "stream",
     "text": [
      "\r",
      " 84%|██████████████████████████████████████████████████████████████████▊             | 188/225 [06:45<01:07,  1.82s/it]"
     ]
    },
    {
     "name": "stdout",
     "output_type": "stream",
     "text": [
      "INFO:tensorflow:Restoring parameters from vggish_model.ckpt\n"
     ]
    },
    {
     "name": "stderr",
     "output_type": "stream",
     "text": [
      "\r",
      " 84%|███████████████████████████████████████████████████████████████████▏            | 189/225 [06:47<01:05,  1.81s/it]"
     ]
    },
    {
     "name": "stdout",
     "output_type": "stream",
     "text": [
      "INFO:tensorflow:Restoring parameters from vggish_model.ckpt\n"
     ]
    },
    {
     "name": "stderr",
     "output_type": "stream",
     "text": [
      "\r",
      " 84%|███████████████████████████████████████████████████████████████████▌            | 190/225 [06:49<01:01,  1.77s/it]"
     ]
    },
    {
     "name": "stdout",
     "output_type": "stream",
     "text": [
      "INFO:tensorflow:Restoring parameters from vggish_model.ckpt\n"
     ]
    },
    {
     "name": "stderr",
     "output_type": "stream",
     "text": [
      "\r",
      " 85%|███████████████████████████████████████████████████████████████████▉            | 191/225 [06:50<00:59,  1.74s/it]"
     ]
    },
    {
     "name": "stdout",
     "output_type": "stream",
     "text": [
      "INFO:tensorflow:Restoring parameters from vggish_model.ckpt\n"
     ]
    },
    {
     "name": "stderr",
     "output_type": "stream",
     "text": [
      "\r",
      " 85%|████████████████████████████████████████████████████████████████████▎           | 192/225 [06:52<00:57,  1.74s/it]"
     ]
    },
    {
     "name": "stdout",
     "output_type": "stream",
     "text": [
      "INFO:tensorflow:Restoring parameters from vggish_model.ckpt\n"
     ]
    },
    {
     "name": "stderr",
     "output_type": "stream",
     "text": [
      "\r",
      " 86%|████████████████████████████████████████████████████████████████████▌           | 193/225 [06:54<00:54,  1.71s/it]"
     ]
    },
    {
     "name": "stdout",
     "output_type": "stream",
     "text": [
      "INFO:tensorflow:Restoring parameters from vggish_model.ckpt\n"
     ]
    },
    {
     "name": "stderr",
     "output_type": "stream",
     "text": [
      "\r",
      " 86%|████████████████████████████████████████████████████████████████████▉           | 194/225 [06:55<00:52,  1.68s/it]"
     ]
    },
    {
     "name": "stdout",
     "output_type": "stream",
     "text": [
      "INFO:tensorflow:Restoring parameters from vggish_model.ckpt\n"
     ]
    },
    {
     "name": "stderr",
     "output_type": "stream",
     "text": [
      "\r",
      " 87%|█████████████████████████████████████████████████████████████████████▎          | 195/225 [06:57<00:50,  1.68s/it]"
     ]
    },
    {
     "name": "stdout",
     "output_type": "stream",
     "text": [
      "INFO:tensorflow:Restoring parameters from vggish_model.ckpt\n"
     ]
    },
    {
     "name": "stderr",
     "output_type": "stream",
     "text": [
      "\r",
      " 87%|█████████████████████████████████████████████████████████████████████▋          | 196/225 [06:59<00:49,  1.72s/it]"
     ]
    },
    {
     "name": "stdout",
     "output_type": "stream",
     "text": [
      "INFO:tensorflow:Restoring parameters from vggish_model.ckpt\n"
     ]
    },
    {
     "name": "stderr",
     "output_type": "stream",
     "text": [
      "\r",
      " 88%|██████████████████████████████████████████████████████████████████████          | 197/225 [07:00<00:46,  1.67s/it]"
     ]
    },
    {
     "name": "stdout",
     "output_type": "stream",
     "text": [
      "INFO:tensorflow:Restoring parameters from vggish_model.ckpt\n"
     ]
    },
    {
     "name": "stderr",
     "output_type": "stream",
     "text": [
      "\r",
      " 88%|██████████████████████████████████████████████████████████████████████▍         | 198/225 [07:02<00:45,  1.69s/it]"
     ]
    },
    {
     "name": "stdout",
     "output_type": "stream",
     "text": [
      "INFO:tensorflow:Restoring parameters from vggish_model.ckpt\n"
     ]
    },
    {
     "name": "stderr",
     "output_type": "stream",
     "text": [
      "\r",
      " 88%|██████████████████████████████████████████████████████████████████████▊         | 199/225 [07:04<00:46,  1.79s/it]"
     ]
    },
    {
     "name": "stdout",
     "output_type": "stream",
     "text": [
      "INFO:tensorflow:Restoring parameters from vggish_model.ckpt\n"
     ]
    },
    {
     "name": "stderr",
     "output_type": "stream",
     "text": [
      "\r",
      " 89%|███████████████████████████████████████████████████████████████████████         | 200/225 [07:06<00:46,  1.84s/it]"
     ]
    },
    {
     "name": "stdout",
     "output_type": "stream",
     "text": [
      "INFO:tensorflow:Restoring parameters from vggish_model.ckpt\n"
     ]
    },
    {
     "name": "stderr",
     "output_type": "stream",
     "text": [
      "\r",
      " 89%|███████████████████████████████████████████████████████████████████████▍        | 201/225 [07:08<00:44,  1.83s/it]"
     ]
    },
    {
     "name": "stdout",
     "output_type": "stream",
     "text": [
      "INFO:tensorflow:Restoring parameters from vggish_model.ckpt\n"
     ]
    },
    {
     "name": "stderr",
     "output_type": "stream",
     "text": [
      "\r",
      " 90%|███████████████████████████████████████████████████████████████████████▊        | 202/225 [07:09<00:40,  1.76s/it]"
     ]
    },
    {
     "name": "stdout",
     "output_type": "stream",
     "text": [
      "INFO:tensorflow:Restoring parameters from vggish_model.ckpt\n"
     ]
    },
    {
     "name": "stderr",
     "output_type": "stream",
     "text": [
      "\r",
      " 90%|████████████████████████████████████████████████████████████████████████▏       | 203/225 [07:11<00:38,  1.76s/it]"
     ]
    },
    {
     "name": "stdout",
     "output_type": "stream",
     "text": [
      "INFO:tensorflow:Restoring parameters from vggish_model.ckpt\n"
     ]
    },
    {
     "name": "stderr",
     "output_type": "stream",
     "text": [
      "\r",
      " 91%|████████████████████████████████████████████████████████████████████████▌       | 204/225 [07:13<00:38,  1.82s/it]"
     ]
    },
    {
     "name": "stdout",
     "output_type": "stream",
     "text": [
      "INFO:tensorflow:Restoring parameters from vggish_model.ckpt\n"
     ]
    },
    {
     "name": "stderr",
     "output_type": "stream",
     "text": [
      "\r",
      " 91%|████████████████████████████████████████████████████████████████████████▉       | 205/225 [07:15<00:38,  1.95s/it]"
     ]
    },
    {
     "name": "stdout",
     "output_type": "stream",
     "text": [
      "INFO:tensorflow:Restoring parameters from vggish_model.ckpt\n"
     ]
    },
    {
     "name": "stderr",
     "output_type": "stream",
     "text": [
      "\r",
      " 92%|█████████████████████████████████████████████████████████████████████████▏      | 206/225 [07:17<00:37,  1.99s/it]"
     ]
    },
    {
     "name": "stdout",
     "output_type": "stream",
     "text": [
      "INFO:tensorflow:Restoring parameters from vggish_model.ckpt\n"
     ]
    },
    {
     "name": "stderr",
     "output_type": "stream",
     "text": [
      "\r",
      " 92%|█████████████████████████████████████████████████████████████████████████▌      | 207/225 [07:19<00:35,  1.98s/it]"
     ]
    },
    {
     "name": "stdout",
     "output_type": "stream",
     "text": [
      "INFO:tensorflow:Restoring parameters from vggish_model.ckpt\n"
     ]
    },
    {
     "name": "stderr",
     "output_type": "stream",
     "text": [
      "\r",
      " 92%|█████████████████████████████████████████████████████████████████████████▉      | 208/225 [07:21<00:33,  1.99s/it]"
     ]
    },
    {
     "name": "stdout",
     "output_type": "stream",
     "text": [
      "INFO:tensorflow:Restoring parameters from vggish_model.ckpt\n"
     ]
    },
    {
     "name": "stderr",
     "output_type": "stream",
     "text": [
      "\r",
      " 93%|██████████████████████████████████████████████████████████████████████████▎     | 209/225 [07:23<00:32,  2.00s/it]"
     ]
    },
    {
     "name": "stdout",
     "output_type": "stream",
     "text": [
      "INFO:tensorflow:Restoring parameters from vggish_model.ckpt\n"
     ]
    },
    {
     "name": "stderr",
     "output_type": "stream",
     "text": [
      "\r",
      " 93%|██████████████████████████████████████████████████████████████████████████▋     | 210/225 [07:27<00:36,  2.47s/it]"
     ]
    },
    {
     "name": "stdout",
     "output_type": "stream",
     "text": [
      "INFO:tensorflow:Restoring parameters from vggish_model.ckpt\n"
     ]
    },
    {
     "name": "stderr",
     "output_type": "stream",
     "text": [
      "\r",
      " 94%|███████████████████████████████████████████████████████████████████████████     | 211/225 [07:33<00:47,  3.41s/it]"
     ]
    },
    {
     "name": "stdout",
     "output_type": "stream",
     "text": [
      "INFO:tensorflow:Restoring parameters from vggish_model.ckpt\n"
     ]
    },
    {
     "name": "stderr",
     "output_type": "stream",
     "text": [
      "\r",
      " 94%|███████████████████████████████████████████████████████████████████████████▍    | 212/225 [07:34<00:38,  2.93s/it]"
     ]
    },
    {
     "name": "stdout",
     "output_type": "stream",
     "text": [
      "INFO:tensorflow:Restoring parameters from vggish_model.ckpt\n"
     ]
    },
    {
     "name": "stderr",
     "output_type": "stream",
     "text": [
      "\r",
      " 95%|███████████████████████████████████████████████████████████████████████████▋    | 213/225 [07:36<00:30,  2.57s/it]"
     ]
    },
    {
     "name": "stdout",
     "output_type": "stream",
     "text": [
      "INFO:tensorflow:Restoring parameters from vggish_model.ckpt\n"
     ]
    },
    {
     "name": "stderr",
     "output_type": "stream",
     "text": [
      "\r",
      " 95%|████████████████████████████████████████████████████████████████████████████    | 214/225 [07:38<00:25,  2.29s/it]"
     ]
    },
    {
     "name": "stdout",
     "output_type": "stream",
     "text": [
      "INFO:tensorflow:Restoring parameters from vggish_model.ckpt\n"
     ]
    },
    {
     "name": "stderr",
     "output_type": "stream",
     "text": [
      "\r",
      " 96%|████████████████████████████████████████████████████████████████████████████▍   | 215/225 [07:40<00:21,  2.16s/it]"
     ]
    },
    {
     "name": "stdout",
     "output_type": "stream",
     "text": [
      "INFO:tensorflow:Restoring parameters from vggish_model.ckpt\n"
     ]
    },
    {
     "name": "stderr",
     "output_type": "stream",
     "text": [
      "\r",
      " 96%|████████████████████████████████████████████████████████████████████████████▊   | 216/225 [07:41<00:17,  1.98s/it]"
     ]
    },
    {
     "name": "stdout",
     "output_type": "stream",
     "text": [
      "INFO:tensorflow:Restoring parameters from vggish_model.ckpt\n"
     ]
    },
    {
     "name": "stderr",
     "output_type": "stream",
     "text": [
      "\r",
      " 96%|█████████████████████████████████████████████████████████████████████████████▏  | 217/225 [07:43<00:15,  1.92s/it]"
     ]
    },
    {
     "name": "stdout",
     "output_type": "stream",
     "text": [
      "INFO:tensorflow:Restoring parameters from vggish_model.ckpt\n"
     ]
    },
    {
     "name": "stderr",
     "output_type": "stream",
     "text": [
      "\r",
      " 97%|█████████████████████████████████████████████████████████████████████████████▌  | 218/225 [07:45<00:13,  1.89s/it]"
     ]
    },
    {
     "name": "stdout",
     "output_type": "stream",
     "text": [
      "INFO:tensorflow:Restoring parameters from vggish_model.ckpt\n"
     ]
    },
    {
     "name": "stderr",
     "output_type": "stream",
     "text": [
      "\r",
      " 97%|█████████████████████████████████████████████████████████████████████████████▊  | 219/225 [07:47<00:11,  1.88s/it]"
     ]
    },
    {
     "name": "stdout",
     "output_type": "stream",
     "text": [
      "INFO:tensorflow:Restoring parameters from vggish_model.ckpt\n"
     ]
    },
    {
     "name": "stderr",
     "output_type": "stream",
     "text": [
      "\r",
      " 98%|██████████████████████████████████████████████████████████████████████████████▏ | 220/225 [07:48<00:09,  1.81s/it]"
     ]
    },
    {
     "name": "stdout",
     "output_type": "stream",
     "text": [
      "INFO:tensorflow:Restoring parameters from vggish_model.ckpt\n"
     ]
    },
    {
     "name": "stderr",
     "output_type": "stream",
     "text": [
      "\r",
      " 98%|██████████████████████████████████████████████████████████████████████████████▌ | 221/225 [07:50<00:07,  1.91s/it]"
     ]
    },
    {
     "name": "stdout",
     "output_type": "stream",
     "text": [
      "INFO:tensorflow:Restoring parameters from vggish_model.ckpt\n"
     ]
    },
    {
     "name": "stderr",
     "output_type": "stream",
     "text": [
      "\r",
      " 99%|██████████████████████████████████████████████████████████████████████████████▉ | 222/225 [07:52<00:05,  1.88s/it]"
     ]
    },
    {
     "name": "stdout",
     "output_type": "stream",
     "text": [
      "INFO:tensorflow:Restoring parameters from vggish_model.ckpt\n"
     ]
    },
    {
     "name": "stderr",
     "output_type": "stream",
     "text": [
      "\r",
      " 99%|███████████████████████████████████████████████████████████████████████████████▎| 223/225 [07:54<00:03,  1.85s/it]"
     ]
    },
    {
     "name": "stdout",
     "output_type": "stream",
     "text": [
      "INFO:tensorflow:Restoring parameters from vggish_model.ckpt\n"
     ]
    },
    {
     "name": "stderr",
     "output_type": "stream",
     "text": [
      "\r",
      "100%|███████████████████████████████████████████████████████████████████████████████▋| 224/225 [07:56<00:01,  1.81s/it]"
     ]
    },
    {
     "name": "stdout",
     "output_type": "stream",
     "text": [
      "INFO:tensorflow:Restoring parameters from vggish_model.ckpt\n"
     ]
    },
    {
     "name": "stderr",
     "output_type": "stream",
     "text": [
      "100%|████████████████████████████████████████████████████████████████████████████████| 225/225 [07:58<00:00,  2.13s/it]\n"
     ]
    }
   ],
   "source": [
    "vggish = [vggish_processing.vggish_embedding(file) for file in tqdm(cough_heavy['filename'])]"
   ]
  },
  {
   "cell_type": "code",
   "execution_count": 17,
   "metadata": {},
   "outputs": [
    {
     "name": "stderr",
     "output_type": "stream",
     "text": [
      "C:\\Users\\deepd\\Anaconda3\\lib\\site-packages\\numpy\\core\\fromnumeric.py:3334: RuntimeWarning: Mean of empty slice.\n",
      "  return _methods._mean(a, axis=axis, dtype=dtype,\n",
      "C:\\Users\\deepd\\Anaconda3\\lib\\site-packages\\numpy\\core\\_methods.py:161: RuntimeWarning: invalid value encountered in true_divide\n",
      "  ret = ret.dtype.type(ret / rcount)\n",
      "C:\\Users\\deepd\\Anaconda3\\lib\\site-packages\\numpy\\core\\_methods.py:216: RuntimeWarning: Degrees of freedom <= 0 for slice\n",
      "  ret = _var(a, axis=axis, dtype=dtype, out=out, ddof=ddof,\n",
      "C:\\Users\\deepd\\Anaconda3\\lib\\site-packages\\numpy\\core\\_methods.py:185: RuntimeWarning: invalid value encountered in true_divide\n",
      "  arrmean = um.true_divide(\n",
      "C:\\Users\\deepd\\Anaconda3\\lib\\site-packages\\numpy\\core\\_methods.py:209: RuntimeWarning: invalid value encountered in true_divide\n",
      "  ret = ret.dtype.type(ret / rcount)\n"
     ]
    }
   ],
   "source": [
    "# computing mean and standard deviation throughout the entire segment\n",
    "vggish_stat= vggish_processing.vggish_stat(vggish)\n",
    "vggish_mean = vggish_stat.mean()\n",
    "vggish_std = vggish_stat.std()"
   ]
  },
  {
   "cell_type": "code",
   "execution_count": 18,
   "metadata": {},
   "outputs": [],
   "source": [
    "# combining those feature to a dataframe\n",
    "df_vggish_mean = pd.DataFrame(vggish_mean,columns=['vggish_feature_mean']*128)\n",
    "df_vggish_std = pd.DataFrame(vggish_mean,columns=['vggish_feature_std']*128)\n",
    "vggish_features = df_vggish_mean.join(df_vggish_std)"
   ]
  },
  {
   "cell_type": "code",
   "execution_count": 19,
   "metadata": {},
   "outputs": [
    {
     "data": {
      "text/html": [
       "<div>\n",
       "<style scoped>\n",
       "    .dataframe tbody tr th:only-of-type {\n",
       "        vertical-align: middle;\n",
       "    }\n",
       "\n",
       "    .dataframe tbody tr th {\n",
       "        vertical-align: top;\n",
       "    }\n",
       "\n",
       "    .dataframe thead th {\n",
       "        text-align: right;\n",
       "    }\n",
       "</style>\n",
       "<table border=\"1\" class=\"dataframe\">\n",
       "  <thead>\n",
       "    <tr style=\"text-align: right;\">\n",
       "      <th></th>\n",
       "      <th>0</th>\n",
       "      <th>1</th>\n",
       "      <th>2</th>\n",
       "      <th>3</th>\n",
       "      <th>4</th>\n",
       "    </tr>\n",
       "  </thead>\n",
       "  <tbody>\n",
       "    <tr>\n",
       "      <th>vggish_feature_mean</th>\n",
       "      <td>-0.014604</td>\n",
       "      <td>0.186208</td>\n",
       "      <td>-0.089034</td>\n",
       "      <td>-0.112447</td>\n",
       "      <td>-0.014857</td>\n",
       "    </tr>\n",
       "    <tr>\n",
       "      <th>vggish_feature_mean</th>\n",
       "      <td>-0.195043</td>\n",
       "      <td>-0.357018</td>\n",
       "      <td>-0.150178</td>\n",
       "      <td>-0.258087</td>\n",
       "      <td>-0.169344</td>\n",
       "    </tr>\n",
       "    <tr>\n",
       "      <th>vggish_feature_mean</th>\n",
       "      <td>0.123979</td>\n",
       "      <td>0.180552</td>\n",
       "      <td>0.552570</td>\n",
       "      <td>1.109780</td>\n",
       "      <td>0.456923</td>\n",
       "    </tr>\n",
       "    <tr>\n",
       "      <th>vggish_feature_mean</th>\n",
       "      <td>-0.350942</td>\n",
       "      <td>-0.404429</td>\n",
       "      <td>-0.190024</td>\n",
       "      <td>-0.567602</td>\n",
       "      <td>-0.106327</td>\n",
       "    </tr>\n",
       "    <tr>\n",
       "      <th>vggish_feature_mean</th>\n",
       "      <td>-0.392104</td>\n",
       "      <td>-0.086799</td>\n",
       "      <td>-0.092157</td>\n",
       "      <td>-0.118912</td>\n",
       "      <td>-0.021436</td>\n",
       "    </tr>\n",
       "    <tr>\n",
       "      <th>...</th>\n",
       "      <td>...</td>\n",
       "      <td>...</td>\n",
       "      <td>...</td>\n",
       "      <td>...</td>\n",
       "      <td>...</td>\n",
       "    </tr>\n",
       "    <tr>\n",
       "      <th>vggish_feature_std</th>\n",
       "      <td>0.117038</td>\n",
       "      <td>0.428696</td>\n",
       "      <td>0.239576</td>\n",
       "      <td>0.041459</td>\n",
       "      <td>0.409458</td>\n",
       "    </tr>\n",
       "    <tr>\n",
       "      <th>vggish_feature_std</th>\n",
       "      <td>-0.126274</td>\n",
       "      <td>0.056640</td>\n",
       "      <td>-0.025697</td>\n",
       "      <td>-0.169521</td>\n",
       "      <td>-0.040775</td>\n",
       "    </tr>\n",
       "    <tr>\n",
       "      <th>vggish_feature_std</th>\n",
       "      <td>-0.092976</td>\n",
       "      <td>-0.087464</td>\n",
       "      <td>-0.154079</td>\n",
       "      <td>-0.388355</td>\n",
       "      <td>-0.164079</td>\n",
       "    </tr>\n",
       "    <tr>\n",
       "      <th>vggish_feature_std</th>\n",
       "      <td>-0.212546</td>\n",
       "      <td>-0.209597</td>\n",
       "      <td>-0.430225</td>\n",
       "      <td>-0.139727</td>\n",
       "      <td>-0.216557</td>\n",
       "    </tr>\n",
       "    <tr>\n",
       "      <th>vggish_feature_std</th>\n",
       "      <td>-0.543742</td>\n",
       "      <td>-0.335151</td>\n",
       "      <td>-0.288353</td>\n",
       "      <td>-0.321753</td>\n",
       "      <td>-0.249364</td>\n",
       "    </tr>\n",
       "  </tbody>\n",
       "</table>\n",
       "<p>256 rows × 5 columns</p>\n",
       "</div>"
      ],
      "text/plain": [
       "                            0         1         2         3         4\n",
       "vggish_feature_mean -0.014604  0.186208 -0.089034 -0.112447 -0.014857\n",
       "vggish_feature_mean -0.195043 -0.357018 -0.150178 -0.258087 -0.169344\n",
       "vggish_feature_mean  0.123979  0.180552  0.552570  1.109780  0.456923\n",
       "vggish_feature_mean -0.350942 -0.404429 -0.190024 -0.567602 -0.106327\n",
       "vggish_feature_mean -0.392104 -0.086799 -0.092157 -0.118912 -0.021436\n",
       "...                       ...       ...       ...       ...       ...\n",
       "vggish_feature_std   0.117038  0.428696  0.239576  0.041459  0.409458\n",
       "vggish_feature_std  -0.126274  0.056640 -0.025697 -0.169521 -0.040775\n",
       "vggish_feature_std  -0.092976 -0.087464 -0.154079 -0.388355 -0.164079\n",
       "vggish_feature_std  -0.212546 -0.209597 -0.430225 -0.139727 -0.216557\n",
       "vggish_feature_std  -0.543742 -0.335151 -0.288353 -0.321753 -0.249364\n",
       "\n",
       "[256 rows x 5 columns]"
      ]
     },
     "execution_count": 19,
     "metadata": {},
     "output_type": "execute_result"
    }
   ],
   "source": [
    "vggish_features.head().T"
   ]
  },
  {
   "cell_type": "code",
   "execution_count": 20,
   "metadata": {},
   "outputs": [
    {
     "data": {
      "text/plain": [
       "(225, 256)"
      ]
     },
     "execution_count": 20,
     "metadata": {},
     "output_type": "execute_result"
    }
   ],
   "source": [
    "vggish_features.shape"
   ]
  },
  {
   "cell_type": "code",
   "execution_count": 21,
   "metadata": {},
   "outputs": [],
   "source": [
    "vggish_features.to_csv('vggish_features.csv',index=True)"
   ]
  },
  {
   "cell_type": "code",
   "execution_count": 22,
   "metadata": {},
   "outputs": [],
   "source": [
    "# joining vggish features and MFCC features into one dataframe\n",
    "vggish_with_mfcc = mfcc_feature.join(vggish_features)"
   ]
  },
  {
   "cell_type": "code",
   "execution_count": 23,
   "metadata": {},
   "outputs": [
    {
     "data": {
      "text/html": [
       "<div>\n",
       "<style scoped>\n",
       "    .dataframe tbody tr th:only-of-type {\n",
       "        vertical-align: middle;\n",
       "    }\n",
       "\n",
       "    .dataframe tbody tr th {\n",
       "        vertical-align: top;\n",
       "    }\n",
       "\n",
       "    .dataframe thead th {\n",
       "        text-align: right;\n",
       "    }\n",
       "</style>\n",
       "<table border=\"1\" class=\"dataframe\">\n",
       "  <thead>\n",
       "    <tr style=\"text-align: right;\">\n",
       "      <th></th>\n",
       "      <th>0</th>\n",
       "      <th>1</th>\n",
       "      <th>2</th>\n",
       "      <th>3</th>\n",
       "      <th>4</th>\n",
       "    </tr>\n",
       "  </thead>\n",
       "  <tbody>\n",
       "    <tr>\n",
       "      <th>mfcc_mean_feature</th>\n",
       "      <td>-765.857361</td>\n",
       "      <td>-673.794434</td>\n",
       "      <td>-718.185974</td>\n",
       "      <td>-771.010437</td>\n",
       "      <td>-652.407043</td>\n",
       "    </tr>\n",
       "    <tr>\n",
       "      <th>mfcc_mean_feature</th>\n",
       "      <td>56.635921</td>\n",
       "      <td>39.070114</td>\n",
       "      <td>66.435989</td>\n",
       "      <td>65.506836</td>\n",
       "      <td>99.792557</td>\n",
       "    </tr>\n",
       "    <tr>\n",
       "      <th>mfcc_mean_feature</th>\n",
       "      <td>-7.718951</td>\n",
       "      <td>-55.959335</td>\n",
       "      <td>-7.685933</td>\n",
       "      <td>10.993238</td>\n",
       "      <td>-42.095676</td>\n",
       "    </tr>\n",
       "    <tr>\n",
       "      <th>mfcc_mean_feature</th>\n",
       "      <td>-5.349398</td>\n",
       "      <td>-3.420140</td>\n",
       "      <td>21.239208</td>\n",
       "      <td>14.352894</td>\n",
       "      <td>30.789314</td>\n",
       "    </tr>\n",
       "    <tr>\n",
       "      <th>mfcc_mean_feature</th>\n",
       "      <td>-2.479132</td>\n",
       "      <td>-32.085152</td>\n",
       "      <td>-40.569927</td>\n",
       "      <td>-20.039225</td>\n",
       "      <td>-26.789732</td>\n",
       "    </tr>\n",
       "    <tr>\n",
       "      <th>...</th>\n",
       "      <td>...</td>\n",
       "      <td>...</td>\n",
       "      <td>...</td>\n",
       "      <td>...</td>\n",
       "      <td>...</td>\n",
       "    </tr>\n",
       "    <tr>\n",
       "      <th>vggish_feature_std</th>\n",
       "      <td>0.117038</td>\n",
       "      <td>0.428696</td>\n",
       "      <td>0.239576</td>\n",
       "      <td>0.041459</td>\n",
       "      <td>0.409458</td>\n",
       "    </tr>\n",
       "    <tr>\n",
       "      <th>vggish_feature_std</th>\n",
       "      <td>-0.126274</td>\n",
       "      <td>0.056640</td>\n",
       "      <td>-0.025697</td>\n",
       "      <td>-0.169521</td>\n",
       "      <td>-0.040775</td>\n",
       "    </tr>\n",
       "    <tr>\n",
       "      <th>vggish_feature_std</th>\n",
       "      <td>-0.092976</td>\n",
       "      <td>-0.087464</td>\n",
       "      <td>-0.154079</td>\n",
       "      <td>-0.388355</td>\n",
       "      <td>-0.164079</td>\n",
       "    </tr>\n",
       "    <tr>\n",
       "      <th>vggish_feature_std</th>\n",
       "      <td>-0.212546</td>\n",
       "      <td>-0.209597</td>\n",
       "      <td>-0.430225</td>\n",
       "      <td>-0.139727</td>\n",
       "      <td>-0.216557</td>\n",
       "    </tr>\n",
       "    <tr>\n",
       "      <th>vggish_feature_std</th>\n",
       "      <td>-0.543742</td>\n",
       "      <td>-0.335151</td>\n",
       "      <td>-0.288353</td>\n",
       "      <td>-0.321753</td>\n",
       "      <td>-0.249364</td>\n",
       "    </tr>\n",
       "  </tbody>\n",
       "</table>\n",
       "<p>685 rows × 5 columns</p>\n",
       "</div>"
      ],
      "text/plain": [
       "                             0           1           2           3           4\n",
       "mfcc_mean_feature  -765.857361 -673.794434 -718.185974 -771.010437 -652.407043\n",
       "mfcc_mean_feature    56.635921   39.070114   66.435989   65.506836   99.792557\n",
       "mfcc_mean_feature    -7.718951  -55.959335   -7.685933   10.993238  -42.095676\n",
       "mfcc_mean_feature    -5.349398   -3.420140   21.239208   14.352894   30.789314\n",
       "mfcc_mean_feature    -2.479132  -32.085152  -40.569927  -20.039225  -26.789732\n",
       "...                        ...         ...         ...         ...         ...\n",
       "vggish_feature_std    0.117038    0.428696    0.239576    0.041459    0.409458\n",
       "vggish_feature_std   -0.126274    0.056640   -0.025697   -0.169521   -0.040775\n",
       "vggish_feature_std   -0.092976   -0.087464   -0.154079   -0.388355   -0.164079\n",
       "vggish_feature_std   -0.212546   -0.209597   -0.430225   -0.139727   -0.216557\n",
       "vggish_feature_std   -0.543742   -0.335151   -0.288353   -0.321753   -0.249364\n",
       "\n",
       "[685 rows x 5 columns]"
      ]
     },
     "execution_count": 23,
     "metadata": {},
     "output_type": "execute_result"
    }
   ],
   "source": [
    "vggish_with_mfcc.head().T"
   ]
  },
  {
   "cell_type": "code",
   "execution_count": 24,
   "metadata": {},
   "outputs": [
    {
     "data": {
      "text/plain": [
       "(225, 685)"
      ]
     },
     "execution_count": 24,
     "metadata": {},
     "output_type": "execute_result"
    }
   ],
   "source": [
    "vggish_with_mfcc.shape"
   ]
  },
  {
   "cell_type": "markdown",
   "metadata": {},
   "source": [
    "## Extracting spectral features and statistics"
   ]
  },
  {
   "cell_type": "code",
   "execution_count": 25,
   "metadata": {},
   "outputs": [],
   "source": [
    "# extracting frame-level features\n",
    "cough_heavy['spectral_centroid'] = preprocessing.Extract_Data.get_spectral_centroid(cough_heavy)\n",
    "cough_heavy['roll_off'] = preprocessing.Extract_Data.roll_off(cough_heavy)\n",
    "cough_heavy['zero_crossing_rate'] = preprocessing.Extract_Data.get_zero_crossing(cough_heavy)\n",
    "cough_heavy['rms'] = preprocessing.Extract_Data.get_zero_crossing(cough_heavy)"
   ]
  },
  {
   "cell_type": "code",
   "execution_count": 26,
   "metadata": {},
   "outputs": [],
   "source": [
    "# computing statistics from the frame-level features\n",
    "preprocessing.postprocess(cough_heavy,labels=['spectral_centroid','roll_off','zero_crossing_rate','rms'])"
   ]
  },
  {
   "cell_type": "code",
   "execution_count": 59,
   "metadata": {},
   "outputs": [],
   "source": [
    "# having onset as feature\n",
    "cough_heavy['onset'] = preprocessing.Extract_Data.onset(cough_heavy)"
   ]
  },
  {
   "cell_type": "code",
   "execution_count": 75,
   "metadata": {},
   "outputs": [
    {
     "data": {
      "text/html": [
       "<div>\n",
       "<style scoped>\n",
       "    .dataframe tbody tr th:only-of-type {\n",
       "        vertical-align: middle;\n",
       "    }\n",
       "\n",
       "    .dataframe tbody tr th {\n",
       "        vertical-align: top;\n",
       "    }\n",
       "\n",
       "    .dataframe thead th {\n",
       "        text-align: right;\n",
       "    }\n",
       "</style>\n",
       "<table border=\"1\" class=\"dataframe\">\n",
       "  <thead>\n",
       "    <tr style=\"text-align: right;\">\n",
       "      <th></th>\n",
       "      <th>label</th>\n",
       "      <th>data</th>\n",
       "      <th>filename</th>\n",
       "      <th>spectral_centroid</th>\n",
       "      <th>roll_off</th>\n",
       "      <th>zero_crossing_rate</th>\n",
       "      <th>rms</th>\n",
       "      <th>spectral_centroid_mean</th>\n",
       "      <th>spectral_centroid_std</th>\n",
       "      <th>spectral_centroid_median</th>\n",
       "      <th>...</th>\n",
       "      <th>rms_median</th>\n",
       "      <th>rms_max</th>\n",
       "      <th>rms_min</th>\n",
       "      <th>rms_quartile_1st</th>\n",
       "      <th>rms_quartile_3rd</th>\n",
       "      <th>rms_interquartilerange</th>\n",
       "      <th>rms_skewness</th>\n",
       "      <th>rms_kurtosis</th>\n",
       "      <th>rms_rms</th>\n",
       "      <th>onset</th>\n",
       "    </tr>\n",
       "  </thead>\n",
       "  <tbody>\n",
       "    <tr>\n",
       "      <th>0</th>\n",
       "      <td>0.00</td>\n",
       "      <td>[1.141661e-05, 3.862317e-06, -3.9919647e-05, -...</td>\n",
       "      <td>C:/Users/deepd/Documents/Covid/Extracted_trial...</td>\n",
       "      <td>[[1661.6969269932445, 1597.5467369335083, 1626...</td>\n",
       "      <td>[[2950.048828125, 2670.1171875, 2767.016601562...</td>\n",
       "      <td>[[0.041015625, 0.07080078125, 0.0869140625, 0....</td>\n",
       "      <td>[[0.041015625, 0.07080078125, 0.0869140625, 0....</td>\n",
       "      <td>2067.38</td>\n",
       "      <td>595.30</td>\n",
       "      <td>2076.12</td>\n",
       "      <td>...</td>\n",
       "      <td>0.15</td>\n",
       "      <td>0.50</td>\n",
       "      <td>0.03</td>\n",
       "      <td>0.09</td>\n",
       "      <td>0.28</td>\n",
       "      <td>0.18</td>\n",
       "      <td>0.93</td>\n",
       "      <td>-0.49</td>\n",
       "      <td>0.24</td>\n",
       "      <td>11</td>\n",
       "    </tr>\n",
       "    <tr>\n",
       "      <th>1</th>\n",
       "      <td>1.00</td>\n",
       "      <td>[0.0, 0.0, 0.0, 0.0, 0.0, 0.0, 0.0, 0.0, 0.0, ...</td>\n",
       "      <td>C:/Users/deepd/Documents/Covid/Extracted_trial...</td>\n",
       "      <td>[[0.0, 0.0, 0.0, 0.0, 0.0, 3620.666656334686, ...</td>\n",
       "      <td>[[0.0, 0.0, 0.0, 0.0, 0.0, 6556.8603515625, 63...</td>\n",
       "      <td>[[0.0, 0.0, 0.0, 0.0, 0.0, 0.11181640625, 0.20...</td>\n",
       "      <td>[[0.0, 0.0, 0.0, 0.0, 0.0, 0.11181640625, 0.20...</td>\n",
       "      <td>2455.76</td>\n",
       "      <td>1035.04</td>\n",
       "      <td>2692.79</td>\n",
       "      <td>...</td>\n",
       "      <td>0.19</td>\n",
       "      <td>0.45</td>\n",
       "      <td>0.00</td>\n",
       "      <td>0.12</td>\n",
       "      <td>0.24</td>\n",
       "      <td>0.12</td>\n",
       "      <td>-0.01</td>\n",
       "      <td>-0.30</td>\n",
       "      <td>0.20</td>\n",
       "      <td>14</td>\n",
       "    </tr>\n",
       "    <tr>\n",
       "      <th>2</th>\n",
       "      <td>1.00</td>\n",
       "      <td>[0.0, 0.0, 0.0, 0.0, 0.0, 0.0, 0.0, 0.0, 0.0, ...</td>\n",
       "      <td>C:/Users/deepd/Documents/Covid/Extracted_trial...</td>\n",
       "      <td>[[5339.464481751565, 3698.983581618055, 3744.7...</td>\n",
       "      <td>[[8936.279296875, 6373.828125, 6621.4599609375...</td>\n",
       "      <td>[[0.025390625, 0.185546875, 0.3984375, 0.57226...</td>\n",
       "      <td>[[0.025390625, 0.185546875, 0.3984375, 0.57226...</td>\n",
       "      <td>2934.96</td>\n",
       "      <td>1107.07</td>\n",
       "      <td>3118.39</td>\n",
       "      <td>...</td>\n",
       "      <td>0.30</td>\n",
       "      <td>0.86</td>\n",
       "      <td>0.03</td>\n",
       "      <td>0.20</td>\n",
       "      <td>0.51</td>\n",
       "      <td>0.31</td>\n",
       "      <td>0.66</td>\n",
       "      <td>-0.53</td>\n",
       "      <td>0.42</td>\n",
       "      <td>11</td>\n",
       "    </tr>\n",
       "    <tr>\n",
       "      <th>3</th>\n",
       "      <td>0.00</td>\n",
       "      <td>[0.0, 0.0, 0.0, 0.0, 0.0, 0.0, 0.0, 0.0, 0.0, ...</td>\n",
       "      <td>C:/Users/deepd/Documents/Covid/Extracted_trial...</td>\n",
       "      <td>[[1900.433774135117, 1696.7200733662612, 1685....</td>\n",
       "      <td>[[4446.6064453125, 3811.376953125, 3919.042968...</td>\n",
       "      <td>[[0.0263671875, 0.056640625, 0.056640625, 0.05...</td>\n",
       "      <td>[[0.0263671875, 0.056640625, 0.056640625, 0.05...</td>\n",
       "      <td>2288.21</td>\n",
       "      <td>967.49</td>\n",
       "      <td>2138.40</td>\n",
       "      <td>...</td>\n",
       "      <td>0.14</td>\n",
       "      <td>0.39</td>\n",
       "      <td>0.03</td>\n",
       "      <td>0.10</td>\n",
       "      <td>0.27</td>\n",
       "      <td>0.16</td>\n",
       "      <td>0.45</td>\n",
       "      <td>-1.13</td>\n",
       "      <td>0.21</td>\n",
       "      <td>8</td>\n",
       "    </tr>\n",
       "    <tr>\n",
       "      <th>4</th>\n",
       "      <td>0.00</td>\n",
       "      <td>[0.0, 0.0, 0.0, 0.0, 0.0, 0.0, 0.0, 0.0, 0.0, ...</td>\n",
       "      <td>C:/Users/deepd/Documents/Covid/Extracted_trial...</td>\n",
       "      <td>[[0.0, 0.0, 3248.724186007833, 2277.0602467323...</td>\n",
       "      <td>[[0.0, 0.0, 5447.900390625, 4640.4052734375, 4...</td>\n",
       "      <td>[[0.0, 0.0, 0.02734375, 0.0712890625, 0.112792...</td>\n",
       "      <td>[[0.0, 0.0, 0.02734375, 0.0712890625, 0.112792...</td>\n",
       "      <td>1901.79</td>\n",
       "      <td>601.62</td>\n",
       "      <td>1811.02</td>\n",
       "      <td>...</td>\n",
       "      <td>0.12</td>\n",
       "      <td>0.39</td>\n",
       "      <td>0.00</td>\n",
       "      <td>0.09</td>\n",
       "      <td>0.17</td>\n",
       "      <td>0.09</td>\n",
       "      <td>1.05</td>\n",
       "      <td>0.40</td>\n",
       "      <td>0.16</td>\n",
       "      <td>13</td>\n",
       "    </tr>\n",
       "  </tbody>\n",
       "</table>\n",
       "<p>5 rows × 52 columns</p>\n",
       "</div>"
      ],
      "text/plain": [
       "   label                                               data  \\\n",
       "0   0.00  [1.141661e-05, 3.862317e-06, -3.9919647e-05, -...   \n",
       "1   1.00  [0.0, 0.0, 0.0, 0.0, 0.0, 0.0, 0.0, 0.0, 0.0, ...   \n",
       "2   1.00  [0.0, 0.0, 0.0, 0.0, 0.0, 0.0, 0.0, 0.0, 0.0, ...   \n",
       "3   0.00  [0.0, 0.0, 0.0, 0.0, 0.0, 0.0, 0.0, 0.0, 0.0, ...   \n",
       "4   0.00  [0.0, 0.0, 0.0, 0.0, 0.0, 0.0, 0.0, 0.0, 0.0, ...   \n",
       "\n",
       "                                            filename  \\\n",
       "0  C:/Users/deepd/Documents/Covid/Extracted_trial...   \n",
       "1  C:/Users/deepd/Documents/Covid/Extracted_trial...   \n",
       "2  C:/Users/deepd/Documents/Covid/Extracted_trial...   \n",
       "3  C:/Users/deepd/Documents/Covid/Extracted_trial...   \n",
       "4  C:/Users/deepd/Documents/Covid/Extracted_trial...   \n",
       "\n",
       "                                   spectral_centroid  \\\n",
       "0  [[1661.6969269932445, 1597.5467369335083, 1626...   \n",
       "1  [[0.0, 0.0, 0.0, 0.0, 0.0, 3620.666656334686, ...   \n",
       "2  [[5339.464481751565, 3698.983581618055, 3744.7...   \n",
       "3  [[1900.433774135117, 1696.7200733662612, 1685....   \n",
       "4  [[0.0, 0.0, 3248.724186007833, 2277.0602467323...   \n",
       "\n",
       "                                            roll_off  \\\n",
       "0  [[2950.048828125, 2670.1171875, 2767.016601562...   \n",
       "1  [[0.0, 0.0, 0.0, 0.0, 0.0, 6556.8603515625, 63...   \n",
       "2  [[8936.279296875, 6373.828125, 6621.4599609375...   \n",
       "3  [[4446.6064453125, 3811.376953125, 3919.042968...   \n",
       "4  [[0.0, 0.0, 5447.900390625, 4640.4052734375, 4...   \n",
       "\n",
       "                                  zero_crossing_rate  \\\n",
       "0  [[0.041015625, 0.07080078125, 0.0869140625, 0....   \n",
       "1  [[0.0, 0.0, 0.0, 0.0, 0.0, 0.11181640625, 0.20...   \n",
       "2  [[0.025390625, 0.185546875, 0.3984375, 0.57226...   \n",
       "3  [[0.0263671875, 0.056640625, 0.056640625, 0.05...   \n",
       "4  [[0.0, 0.0, 0.02734375, 0.0712890625, 0.112792...   \n",
       "\n",
       "                                                 rms  spectral_centroid_mean  \\\n",
       "0  [[0.041015625, 0.07080078125, 0.0869140625, 0....                 2067.38   \n",
       "1  [[0.0, 0.0, 0.0, 0.0, 0.0, 0.11181640625, 0.20...                 2455.76   \n",
       "2  [[0.025390625, 0.185546875, 0.3984375, 0.57226...                 2934.96   \n",
       "3  [[0.0263671875, 0.056640625, 0.056640625, 0.05...                 2288.21   \n",
       "4  [[0.0, 0.0, 0.02734375, 0.0712890625, 0.112792...                 1901.79   \n",
       "\n",
       "   spectral_centroid_std  spectral_centroid_median  ...  rms_median  rms_max  \\\n",
       "0                 595.30                   2076.12  ...        0.15     0.50   \n",
       "1                1035.04                   2692.79  ...        0.19     0.45   \n",
       "2                1107.07                   3118.39  ...        0.30     0.86   \n",
       "3                 967.49                   2138.40  ...        0.14     0.39   \n",
       "4                 601.62                   1811.02  ...        0.12     0.39   \n",
       "\n",
       "   rms_min  rms_quartile_1st  rms_quartile_3rd  rms_interquartilerange  \\\n",
       "0     0.03              0.09              0.28                    0.18   \n",
       "1     0.00              0.12              0.24                    0.12   \n",
       "2     0.03              0.20              0.51                    0.31   \n",
       "3     0.03              0.10              0.27                    0.16   \n",
       "4     0.00              0.09              0.17                    0.09   \n",
       "\n",
       "   rms_skewness  rms_kurtosis  rms_rms  onset  \n",
       "0          0.93         -0.49     0.24     11  \n",
       "1         -0.01         -0.30     0.20     14  \n",
       "2          0.66         -0.53     0.42     11  \n",
       "3          0.45         -1.13     0.21      8  \n",
       "4          1.05          0.40     0.16     13  \n",
       "\n",
       "[5 rows x 52 columns]"
      ]
     },
     "execution_count": 75,
     "metadata": {},
     "output_type": "execute_result"
    }
   ],
   "source": [
    "cough_heavy.head()"
   ]
  },
  {
   "cell_type": "code",
   "execution_count": 61,
   "metadata": {},
   "outputs": [
    {
     "data": {
      "text/plain": [
       "(225, 52)"
      ]
     },
     "execution_count": 61,
     "metadata": {},
     "output_type": "execute_result"
    }
   ],
   "source": [
    "cough_heavy.shape"
   ]
  },
  {
   "cell_type": "code",
   "execution_count": 62,
   "metadata": {},
   "outputs": [],
   "source": [
    "cough_data = cough_heavy.copy()"
   ]
  },
  {
   "cell_type": "code",
   "execution_count": 63,
   "metadata": {},
   "outputs": [],
   "source": [
    "cough_data.drop(['spectral_centroid','roll_off','zero_crossing_rate','rms','data','filename'],axis=1,inplace=True)"
   ]
  },
  {
   "cell_type": "code",
   "execution_count": 64,
   "metadata": {},
   "outputs": [
    {
     "data": {
      "text/plain": [
       "(225, 46)"
      ]
     },
     "execution_count": 64,
     "metadata": {},
     "output_type": "execute_result"
    }
   ],
   "source": [
    "cough_data.shape"
   ]
  },
  {
   "cell_type": "code",
   "execution_count": 65,
   "metadata": {},
   "outputs": [],
   "source": [
    "# joining all features\n",
    "cough_data = cough_data.join(vggish_with_mfcc)"
   ]
  },
  {
   "cell_type": "code",
   "execution_count": 66,
   "metadata": {},
   "outputs": [
    {
     "data": {
      "text/plain": [
       "(225, 731)"
      ]
     },
     "execution_count": 66,
     "metadata": {},
     "output_type": "execute_result"
    }
   ],
   "source": [
    "cough_data.shape"
   ]
  },
  {
   "cell_type": "code",
   "execution_count": 67,
   "metadata": {},
   "outputs": [],
   "source": [
    "#dropping missing value\n",
    "cough_data.dropna(inplace=True)"
   ]
  },
  {
   "cell_type": "code",
   "execution_count": 68,
   "metadata": {},
   "outputs": [],
   "source": [
    "cough_data.to_csv('all_features.csv',index=False)"
   ]
  },
  {
   "cell_type": "code",
   "execution_count": 70,
   "metadata": {},
   "outputs": [],
   "source": [
    "cough_data.columns = range(0,731)"
   ]
  },
  {
   "cell_type": "code",
   "execution_count": 71,
   "metadata": {},
   "outputs": [
    {
     "data": {
      "text/html": [
       "<div>\n",
       "<style scoped>\n",
       "    .dataframe tbody tr th:only-of-type {\n",
       "        vertical-align: middle;\n",
       "    }\n",
       "\n",
       "    .dataframe tbody tr th {\n",
       "        vertical-align: top;\n",
       "    }\n",
       "\n",
       "    .dataframe thead th {\n",
       "        text-align: right;\n",
       "    }\n",
       "</style>\n",
       "<table border=\"1\" class=\"dataframe\">\n",
       "  <thead>\n",
       "    <tr style=\"text-align: right;\">\n",
       "      <th></th>\n",
       "      <th>0</th>\n",
       "      <th>1</th>\n",
       "      <th>2</th>\n",
       "      <th>3</th>\n",
       "      <th>4</th>\n",
       "      <th>5</th>\n",
       "      <th>6</th>\n",
       "      <th>7</th>\n",
       "      <th>8</th>\n",
       "      <th>9</th>\n",
       "      <th>...</th>\n",
       "      <th>721</th>\n",
       "      <th>722</th>\n",
       "      <th>723</th>\n",
       "      <th>724</th>\n",
       "      <th>725</th>\n",
       "      <th>726</th>\n",
       "      <th>727</th>\n",
       "      <th>728</th>\n",
       "      <th>729</th>\n",
       "      <th>730</th>\n",
       "    </tr>\n",
       "  </thead>\n",
       "  <tbody>\n",
       "    <tr>\n",
       "      <th>0</th>\n",
       "      <td>0.00</td>\n",
       "      <td>2067.38</td>\n",
       "      <td>595.30</td>\n",
       "      <td>2076.12</td>\n",
       "      <td>4179.15</td>\n",
       "      <td>708.67</td>\n",
       "      <td>1629.15</td>\n",
       "      <td>2470.99</td>\n",
       "      <td>841.84</td>\n",
       "      <td>0.49</td>\n",
       "      <td>...</td>\n",
       "      <td>-0.78</td>\n",
       "      <td>-0.17</td>\n",
       "      <td>0.09</td>\n",
       "      <td>-0.37</td>\n",
       "      <td>-0.25</td>\n",
       "      <td>0.12</td>\n",
       "      <td>-0.13</td>\n",
       "      <td>-0.09</td>\n",
       "      <td>-0.21</td>\n",
       "      <td>-0.54</td>\n",
       "    </tr>\n",
       "    <tr>\n",
       "      <th>1</th>\n",
       "      <td>1.00</td>\n",
       "      <td>2455.76</td>\n",
       "      <td>1035.04</td>\n",
       "      <td>2692.79</td>\n",
       "      <td>4629.34</td>\n",
       "      <td>0.00</td>\n",
       "      <td>1866.12</td>\n",
       "      <td>3267.20</td>\n",
       "      <td>1401.09</td>\n",
       "      <td>-0.76</td>\n",
       "      <td>...</td>\n",
       "      <td>-0.46</td>\n",
       "      <td>0.21</td>\n",
       "      <td>0.16</td>\n",
       "      <td>-0.31</td>\n",
       "      <td>-0.25</td>\n",
       "      <td>0.43</td>\n",
       "      <td>0.06</td>\n",
       "      <td>-0.09</td>\n",
       "      <td>-0.21</td>\n",
       "      <td>-0.34</td>\n",
       "    </tr>\n",
       "    <tr>\n",
       "      <th>2</th>\n",
       "      <td>1.00</td>\n",
       "      <td>2934.96</td>\n",
       "      <td>1107.07</td>\n",
       "      <td>3118.39</td>\n",
       "      <td>5339.46</td>\n",
       "      <td>743.43</td>\n",
       "      <td>2247.07</td>\n",
       "      <td>3711.15</td>\n",
       "      <td>1464.08</td>\n",
       "      <td>-0.22</td>\n",
       "      <td>...</td>\n",
       "      <td>-0.68</td>\n",
       "      <td>-0.10</td>\n",
       "      <td>0.19</td>\n",
       "      <td>-0.32</td>\n",
       "      <td>-0.07</td>\n",
       "      <td>0.24</td>\n",
       "      <td>-0.03</td>\n",
       "      <td>-0.15</td>\n",
       "      <td>-0.43</td>\n",
       "      <td>-0.29</td>\n",
       "    </tr>\n",
       "    <tr>\n",
       "      <th>3</th>\n",
       "      <td>0.00</td>\n",
       "      <td>2288.21</td>\n",
       "      <td>967.49</td>\n",
       "      <td>2138.40</td>\n",
       "      <td>3956.37</td>\n",
       "      <td>467.76</td>\n",
       "      <td>1524.06</td>\n",
       "      <td>3197.04</td>\n",
       "      <td>1672.97</td>\n",
       "      <td>0.01</td>\n",
       "      <td>...</td>\n",
       "      <td>-0.65</td>\n",
       "      <td>-0.14</td>\n",
       "      <td>0.08</td>\n",
       "      <td>-0.35</td>\n",
       "      <td>-0.04</td>\n",
       "      <td>0.04</td>\n",
       "      <td>-0.17</td>\n",
       "      <td>-0.39</td>\n",
       "      <td>-0.14</td>\n",
       "      <td>-0.32</td>\n",
       "    </tr>\n",
       "    <tr>\n",
       "      <th>4</th>\n",
       "      <td>0.00</td>\n",
       "      <td>1901.79</td>\n",
       "      <td>601.62</td>\n",
       "      <td>1811.02</td>\n",
       "      <td>3604.11</td>\n",
       "      <td>0.00</td>\n",
       "      <td>1466.70</td>\n",
       "      <td>2274.14</td>\n",
       "      <td>807.44</td>\n",
       "      <td>0.46</td>\n",
       "      <td>...</td>\n",
       "      <td>-0.52</td>\n",
       "      <td>0.13</td>\n",
       "      <td>0.03</td>\n",
       "      <td>-0.08</td>\n",
       "      <td>-0.16</td>\n",
       "      <td>0.41</td>\n",
       "      <td>-0.04</td>\n",
       "      <td>-0.16</td>\n",
       "      <td>-0.22</td>\n",
       "      <td>-0.25</td>\n",
       "    </tr>\n",
       "  </tbody>\n",
       "</table>\n",
       "<p>5 rows × 731 columns</p>\n",
       "</div>"
      ],
      "text/plain": [
       "   0       1       2       3       4      5       6       7       8     9    \\\n",
       "0 0.00 2067.38  595.30 2076.12 4179.15 708.67 1629.15 2470.99  841.84  0.49   \n",
       "1 1.00 2455.76 1035.04 2692.79 4629.34   0.00 1866.12 3267.20 1401.09 -0.76   \n",
       "2 1.00 2934.96 1107.07 3118.39 5339.46 743.43 2247.07 3711.15 1464.08 -0.22   \n",
       "3 0.00 2288.21  967.49 2138.40 3956.37 467.76 1524.06 3197.04 1672.97  0.01   \n",
       "4 0.00 1901.79  601.62 1811.02 3604.11   0.00 1466.70 2274.14  807.44  0.46   \n",
       "\n",
       "   ...   721   722  723   724   725  726   727   728   729   730  \n",
       "0  ... -0.78 -0.17 0.09 -0.37 -0.25 0.12 -0.13 -0.09 -0.21 -0.54  \n",
       "1  ... -0.46  0.21 0.16 -0.31 -0.25 0.43  0.06 -0.09 -0.21 -0.34  \n",
       "2  ... -0.68 -0.10 0.19 -0.32 -0.07 0.24 -0.03 -0.15 -0.43 -0.29  \n",
       "3  ... -0.65 -0.14 0.08 -0.35 -0.04 0.04 -0.17 -0.39 -0.14 -0.32  \n",
       "4  ... -0.52  0.13 0.03 -0.08 -0.16 0.41 -0.04 -0.16 -0.22 -0.25  \n",
       "\n",
       "[5 rows x 731 columns]"
      ]
     },
     "execution_count": 71,
     "metadata": {},
     "output_type": "execute_result"
    }
   ],
   "source": [
    "cough_data.head()"
   ]
  },
  {
   "cell_type": "markdown",
   "metadata": {},
   "source": [
    "### Fitting a basic model with all the features"
   ]
  },
  {
   "cell_type": "code",
   "execution_count": 73,
   "metadata": {},
   "outputs": [],
   "source": [
    "# splitting the rows for modelling\n",
    "from sklearn.model_selection import train_test_split\n",
    "features = cough_data.drop([0],axis=1)\n",
    "labels = cough_data[0]\n",
    "train_features,validation_features,train_label,validation_label = train_test_split(features,labels,test_size=.2,random_state=123)"
   ]
  },
  {
   "cell_type": "code",
   "execution_count": 136,
   "metadata": {},
   "outputs": [
    {
     "data": {
      "text/plain": [
       "RandomForestClassifier(n_estimators=210, n_jobs=-1, random_state=3)"
      ]
     },
     "execution_count": 136,
     "metadata": {},
     "output_type": "execute_result"
    }
   ],
   "source": [
    "from sklearn.ensemble import RandomForestClassifier\n",
    "rf = RandomForestClassifier(n_jobs=-1,random_state=3,n_estimators=210)\n",
    "rf.fit(train_features,train_label)"
   ]
  },
  {
   "cell_type": "code",
   "execution_count": 137,
   "metadata": {},
   "outputs": [],
   "source": [
    "pred = rf.predict(validation_features)"
   ]
  },
  {
   "cell_type": "code",
   "execution_count": 138,
   "metadata": {},
   "outputs": [],
   "source": [
    "from sklearn.metrics import accuracy_score\n",
    "accuracy = accuracy_score(validation_label,pred)"
   ]
  },
  {
   "cell_type": "code",
   "execution_count": 139,
   "metadata": {},
   "outputs": [
    {
     "data": {
      "text/plain": [
       "0.7692307692307693"
      ]
     },
     "execution_count": 139,
     "metadata": {},
     "output_type": "execute_result"
    }
   ],
   "source": [
    "accuracy"
   ]
  },
  {
   "cell_type": "markdown",
   "metadata": {},
   "source": [
    "### Conclusion"
   ]
  },
  {
   "cell_type": "markdown",
   "metadata": {},
   "source": [
    "So, this basic model gives a accuracy of approximately 77%, which definately shows promise. Also, I did not distingush cold cough, asthama cough from covid for generalization, doing this will also give significant amoount of accuracy. Appart from that we didnot have enough data, so we could not proceed with any deep learning technique. I will try to increse this accuracy with fitting differents type models and aslo with Data Augmentation."
   ]
  }
 ],
 "metadata": {
  "kernelspec": {
   "display_name": "Python 3",
   "language": "python",
   "name": "python3"
  },
  "language_info": {
   "codemirror_mode": {
    "name": "ipython",
    "version": 3
   },
   "file_extension": ".py",
   "mimetype": "text/x-python",
   "name": "python",
   "nbconvert_exporter": "python",
   "pygments_lexer": "ipython3",
   "version": "3.8.3"
  }
 },
 "nbformat": 4,
 "nbformat_minor": 4
}
